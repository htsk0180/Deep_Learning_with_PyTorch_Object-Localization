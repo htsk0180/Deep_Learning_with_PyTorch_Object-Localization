{
  "nbformat": 4,
  "nbformat_minor": 0,
  "metadata": {
    "colab": {
      "provenance": []
    },
    "kernelspec": {
      "name": "python3",
      "display_name": "Python 3"
    },
    "language_info": {
      "name": "python"
    },
    "accelerator": "GPU",
    "gpuClass": "standard",
    "widgets": {
      "application/vnd.jupyter.widget-state+json": {
        "ab2b56e8f1ce4f6799e311fb3a8363aa": {
          "model_module": "@jupyter-widgets/controls",
          "model_name": "HBoxModel",
          "model_module_version": "1.5.0",
          "state": {
            "_dom_classes": [],
            "_model_module": "@jupyter-widgets/controls",
            "_model_module_version": "1.5.0",
            "_model_name": "HBoxModel",
            "_view_count": null,
            "_view_module": "@jupyter-widgets/controls",
            "_view_module_version": "1.5.0",
            "_view_name": "HBoxView",
            "box_style": "",
            "children": [
              "IPY_MODEL_53c1a97d09954c3195e545fc2e402978",
              "IPY_MODEL_d50a92fe63d04cba815d2a51a257c19d",
              "IPY_MODEL_1840c7845c8d4f8384f7b0f95d7e5ff9"
            ],
            "layout": "IPY_MODEL_94d02d90b16347b0b7a94e39fc04fbae"
          }
        },
        "53c1a97d09954c3195e545fc2e402978": {
          "model_module": "@jupyter-widgets/controls",
          "model_name": "HTMLModel",
          "model_module_version": "1.5.0",
          "state": {
            "_dom_classes": [],
            "_model_module": "@jupyter-widgets/controls",
            "_model_module_version": "1.5.0",
            "_model_name": "HTMLModel",
            "_view_count": null,
            "_view_module": "@jupyter-widgets/controls",
            "_view_module_version": "1.5.0",
            "_view_name": "HTMLView",
            "description": "",
            "description_tooltip": null,
            "layout": "IPY_MODEL_a97749b78618457e82ca0fe5b7789c8f",
            "placeholder": "​",
            "style": "IPY_MODEL_30327ace1c1645688f531d21dc7d3db1",
            "value": "100%"
          }
        },
        "d50a92fe63d04cba815d2a51a257c19d": {
          "model_module": "@jupyter-widgets/controls",
          "model_name": "FloatProgressModel",
          "model_module_version": "1.5.0",
          "state": {
            "_dom_classes": [],
            "_model_module": "@jupyter-widgets/controls",
            "_model_module_version": "1.5.0",
            "_model_name": "FloatProgressModel",
            "_view_count": null,
            "_view_module": "@jupyter-widgets/controls",
            "_view_module_version": "1.5.0",
            "_view_name": "ProgressView",
            "bar_style": "success",
            "description": "",
            "description_tooltip": null,
            "layout": "IPY_MODEL_e17b9ec7378d4a48bd0167c517ad4336",
            "max": 10,
            "min": 0,
            "orientation": "horizontal",
            "style": "IPY_MODEL_e2ef71fa95724efca21d6df1e2af4146",
            "value": 10
          }
        },
        "1840c7845c8d4f8384f7b0f95d7e5ff9": {
          "model_module": "@jupyter-widgets/controls",
          "model_name": "HTMLModel",
          "model_module_version": "1.5.0",
          "state": {
            "_dom_classes": [],
            "_model_module": "@jupyter-widgets/controls",
            "_model_module_version": "1.5.0",
            "_model_name": "HTMLModel",
            "_view_count": null,
            "_view_module": "@jupyter-widgets/controls",
            "_view_module_version": "1.5.0",
            "_view_name": "HTMLView",
            "description": "",
            "description_tooltip": null,
            "layout": "IPY_MODEL_324214b5217a4167ad683747b5f3c1c6",
            "placeholder": "​",
            "style": "IPY_MODEL_225de11546554a6abc819143a47db239",
            "value": " 10/10 [00:16&lt;00:00,  1.33s/it]"
          }
        },
        "94d02d90b16347b0b7a94e39fc04fbae": {
          "model_module": "@jupyter-widgets/base",
          "model_name": "LayoutModel",
          "model_module_version": "1.2.0",
          "state": {
            "_model_module": "@jupyter-widgets/base",
            "_model_module_version": "1.2.0",
            "_model_name": "LayoutModel",
            "_view_count": null,
            "_view_module": "@jupyter-widgets/base",
            "_view_module_version": "1.2.0",
            "_view_name": "LayoutView",
            "align_content": null,
            "align_items": null,
            "align_self": null,
            "border": null,
            "bottom": null,
            "display": null,
            "flex": null,
            "flex_flow": null,
            "grid_area": null,
            "grid_auto_columns": null,
            "grid_auto_flow": null,
            "grid_auto_rows": null,
            "grid_column": null,
            "grid_gap": null,
            "grid_row": null,
            "grid_template_areas": null,
            "grid_template_columns": null,
            "grid_template_rows": null,
            "height": null,
            "justify_content": null,
            "justify_items": null,
            "left": null,
            "margin": null,
            "max_height": null,
            "max_width": null,
            "min_height": null,
            "min_width": null,
            "object_fit": null,
            "object_position": null,
            "order": null,
            "overflow": null,
            "overflow_x": null,
            "overflow_y": null,
            "padding": null,
            "right": null,
            "top": null,
            "visibility": null,
            "width": null
          }
        },
        "a97749b78618457e82ca0fe5b7789c8f": {
          "model_module": "@jupyter-widgets/base",
          "model_name": "LayoutModel",
          "model_module_version": "1.2.0",
          "state": {
            "_model_module": "@jupyter-widgets/base",
            "_model_module_version": "1.2.0",
            "_model_name": "LayoutModel",
            "_view_count": null,
            "_view_module": "@jupyter-widgets/base",
            "_view_module_version": "1.2.0",
            "_view_name": "LayoutView",
            "align_content": null,
            "align_items": null,
            "align_self": null,
            "border": null,
            "bottom": null,
            "display": null,
            "flex": null,
            "flex_flow": null,
            "grid_area": null,
            "grid_auto_columns": null,
            "grid_auto_flow": null,
            "grid_auto_rows": null,
            "grid_column": null,
            "grid_gap": null,
            "grid_row": null,
            "grid_template_areas": null,
            "grid_template_columns": null,
            "grid_template_rows": null,
            "height": null,
            "justify_content": null,
            "justify_items": null,
            "left": null,
            "margin": null,
            "max_height": null,
            "max_width": null,
            "min_height": null,
            "min_width": null,
            "object_fit": null,
            "object_position": null,
            "order": null,
            "overflow": null,
            "overflow_x": null,
            "overflow_y": null,
            "padding": null,
            "right": null,
            "top": null,
            "visibility": null,
            "width": null
          }
        },
        "30327ace1c1645688f531d21dc7d3db1": {
          "model_module": "@jupyter-widgets/controls",
          "model_name": "DescriptionStyleModel",
          "model_module_version": "1.5.0",
          "state": {
            "_model_module": "@jupyter-widgets/controls",
            "_model_module_version": "1.5.0",
            "_model_name": "DescriptionStyleModel",
            "_view_count": null,
            "_view_module": "@jupyter-widgets/base",
            "_view_module_version": "1.2.0",
            "_view_name": "StyleView",
            "description_width": ""
          }
        },
        "e17b9ec7378d4a48bd0167c517ad4336": {
          "model_module": "@jupyter-widgets/base",
          "model_name": "LayoutModel",
          "model_module_version": "1.2.0",
          "state": {
            "_model_module": "@jupyter-widgets/base",
            "_model_module_version": "1.2.0",
            "_model_name": "LayoutModel",
            "_view_count": null,
            "_view_module": "@jupyter-widgets/base",
            "_view_module_version": "1.2.0",
            "_view_name": "LayoutView",
            "align_content": null,
            "align_items": null,
            "align_self": null,
            "border": null,
            "bottom": null,
            "display": null,
            "flex": null,
            "flex_flow": null,
            "grid_area": null,
            "grid_auto_columns": null,
            "grid_auto_flow": null,
            "grid_auto_rows": null,
            "grid_column": null,
            "grid_gap": null,
            "grid_row": null,
            "grid_template_areas": null,
            "grid_template_columns": null,
            "grid_template_rows": null,
            "height": null,
            "justify_content": null,
            "justify_items": null,
            "left": null,
            "margin": null,
            "max_height": null,
            "max_width": null,
            "min_height": null,
            "min_width": null,
            "object_fit": null,
            "object_position": null,
            "order": null,
            "overflow": null,
            "overflow_x": null,
            "overflow_y": null,
            "padding": null,
            "right": null,
            "top": null,
            "visibility": null,
            "width": null
          }
        },
        "e2ef71fa95724efca21d6df1e2af4146": {
          "model_module": "@jupyter-widgets/controls",
          "model_name": "ProgressStyleModel",
          "model_module_version": "1.5.0",
          "state": {
            "_model_module": "@jupyter-widgets/controls",
            "_model_module_version": "1.5.0",
            "_model_name": "ProgressStyleModel",
            "_view_count": null,
            "_view_module": "@jupyter-widgets/base",
            "_view_module_version": "1.2.0",
            "_view_name": "StyleView",
            "bar_color": null,
            "description_width": ""
          }
        },
        "324214b5217a4167ad683747b5f3c1c6": {
          "model_module": "@jupyter-widgets/base",
          "model_name": "LayoutModel",
          "model_module_version": "1.2.0",
          "state": {
            "_model_module": "@jupyter-widgets/base",
            "_model_module_version": "1.2.0",
            "_model_name": "LayoutModel",
            "_view_count": null,
            "_view_module": "@jupyter-widgets/base",
            "_view_module_version": "1.2.0",
            "_view_name": "LayoutView",
            "align_content": null,
            "align_items": null,
            "align_self": null,
            "border": null,
            "bottom": null,
            "display": null,
            "flex": null,
            "flex_flow": null,
            "grid_area": null,
            "grid_auto_columns": null,
            "grid_auto_flow": null,
            "grid_auto_rows": null,
            "grid_column": null,
            "grid_gap": null,
            "grid_row": null,
            "grid_template_areas": null,
            "grid_template_columns": null,
            "grid_template_rows": null,
            "height": null,
            "justify_content": null,
            "justify_items": null,
            "left": null,
            "margin": null,
            "max_height": null,
            "max_width": null,
            "min_height": null,
            "min_width": null,
            "object_fit": null,
            "object_position": null,
            "order": null,
            "overflow": null,
            "overflow_x": null,
            "overflow_y": null,
            "padding": null,
            "right": null,
            "top": null,
            "visibility": null,
            "width": null
          }
        },
        "225de11546554a6abc819143a47db239": {
          "model_module": "@jupyter-widgets/controls",
          "model_name": "DescriptionStyleModel",
          "model_module_version": "1.5.0",
          "state": {
            "_model_module": "@jupyter-widgets/controls",
            "_model_module_version": "1.5.0",
            "_model_name": "DescriptionStyleModel",
            "_view_count": null,
            "_view_module": "@jupyter-widgets/base",
            "_view_module_version": "1.2.0",
            "_view_name": "StyleView",
            "description_width": ""
          }
        },
        "69412923dc0949b896c82ecad0e0307b": {
          "model_module": "@jupyter-widgets/controls",
          "model_name": "HBoxModel",
          "model_module_version": "1.5.0",
          "state": {
            "_dom_classes": [],
            "_model_module": "@jupyter-widgets/controls",
            "_model_module_version": "1.5.0",
            "_model_name": "HBoxModel",
            "_view_count": null,
            "_view_module": "@jupyter-widgets/controls",
            "_view_module_version": "1.5.0",
            "_view_name": "HBoxView",
            "box_style": "",
            "children": [
              "IPY_MODEL_c665feb99ab04f6c9ba07e508357ed77",
              "IPY_MODEL_7b954b171ff34d29aa35440bb4370052",
              "IPY_MODEL_c8e0c4f668884a30ad69c4dffc1e771e"
            ],
            "layout": "IPY_MODEL_ccdce28da7ed401ca6643f31a1fd46e3"
          }
        },
        "c665feb99ab04f6c9ba07e508357ed77": {
          "model_module": "@jupyter-widgets/controls",
          "model_name": "HTMLModel",
          "model_module_version": "1.5.0",
          "state": {
            "_dom_classes": [],
            "_model_module": "@jupyter-widgets/controls",
            "_model_module_version": "1.5.0",
            "_model_name": "HTMLModel",
            "_view_count": null,
            "_view_module": "@jupyter-widgets/controls",
            "_view_module_version": "1.5.0",
            "_view_name": "HTMLView",
            "description": "",
            "description_tooltip": null,
            "layout": "IPY_MODEL_341fbabcad1a4fb390dbcb14584eea26",
            "placeholder": "​",
            "style": "IPY_MODEL_bdce986a1ffd4e01a17bcd0eef64083a",
            "value": "100%"
          }
        },
        "7b954b171ff34d29aa35440bb4370052": {
          "model_module": "@jupyter-widgets/controls",
          "model_name": "FloatProgressModel",
          "model_module_version": "1.5.0",
          "state": {
            "_dom_classes": [],
            "_model_module": "@jupyter-widgets/controls",
            "_model_module_version": "1.5.0",
            "_model_name": "FloatProgressModel",
            "_view_count": null,
            "_view_module": "@jupyter-widgets/controls",
            "_view_module_version": "1.5.0",
            "_view_name": "ProgressView",
            "bar_style": "success",
            "description": "",
            "description_tooltip": null,
            "layout": "IPY_MODEL_bc74b036238b46bb85fc8f2a90e8edea",
            "max": 3,
            "min": 0,
            "orientation": "horizontal",
            "style": "IPY_MODEL_c39536a23a65426498e4b3bd6acc0147",
            "value": 3
          }
        },
        "c8e0c4f668884a30ad69c4dffc1e771e": {
          "model_module": "@jupyter-widgets/controls",
          "model_name": "HTMLModel",
          "model_module_version": "1.5.0",
          "state": {
            "_dom_classes": [],
            "_model_module": "@jupyter-widgets/controls",
            "_model_module_version": "1.5.0",
            "_model_name": "HTMLModel",
            "_view_count": null,
            "_view_module": "@jupyter-widgets/controls",
            "_view_module_version": "1.5.0",
            "_view_name": "HTMLView",
            "description": "",
            "description_tooltip": null,
            "layout": "IPY_MODEL_eda47896b6f647c3be31c22620726f6d",
            "placeholder": "​",
            "style": "IPY_MODEL_a022d35e1b844262941f15b9df6ce974",
            "value": " 3/3 [00:00&lt;00:00,  3.49it/s]"
          }
        },
        "ccdce28da7ed401ca6643f31a1fd46e3": {
          "model_module": "@jupyter-widgets/base",
          "model_name": "LayoutModel",
          "model_module_version": "1.2.0",
          "state": {
            "_model_module": "@jupyter-widgets/base",
            "_model_module_version": "1.2.0",
            "_model_name": "LayoutModel",
            "_view_count": null,
            "_view_module": "@jupyter-widgets/base",
            "_view_module_version": "1.2.0",
            "_view_name": "LayoutView",
            "align_content": null,
            "align_items": null,
            "align_self": null,
            "border": null,
            "bottom": null,
            "display": null,
            "flex": null,
            "flex_flow": null,
            "grid_area": null,
            "grid_auto_columns": null,
            "grid_auto_flow": null,
            "grid_auto_rows": null,
            "grid_column": null,
            "grid_gap": null,
            "grid_row": null,
            "grid_template_areas": null,
            "grid_template_columns": null,
            "grid_template_rows": null,
            "height": null,
            "justify_content": null,
            "justify_items": null,
            "left": null,
            "margin": null,
            "max_height": null,
            "max_width": null,
            "min_height": null,
            "min_width": null,
            "object_fit": null,
            "object_position": null,
            "order": null,
            "overflow": null,
            "overflow_x": null,
            "overflow_y": null,
            "padding": null,
            "right": null,
            "top": null,
            "visibility": null,
            "width": null
          }
        },
        "341fbabcad1a4fb390dbcb14584eea26": {
          "model_module": "@jupyter-widgets/base",
          "model_name": "LayoutModel",
          "model_module_version": "1.2.0",
          "state": {
            "_model_module": "@jupyter-widgets/base",
            "_model_module_version": "1.2.0",
            "_model_name": "LayoutModel",
            "_view_count": null,
            "_view_module": "@jupyter-widgets/base",
            "_view_module_version": "1.2.0",
            "_view_name": "LayoutView",
            "align_content": null,
            "align_items": null,
            "align_self": null,
            "border": null,
            "bottom": null,
            "display": null,
            "flex": null,
            "flex_flow": null,
            "grid_area": null,
            "grid_auto_columns": null,
            "grid_auto_flow": null,
            "grid_auto_rows": null,
            "grid_column": null,
            "grid_gap": null,
            "grid_row": null,
            "grid_template_areas": null,
            "grid_template_columns": null,
            "grid_template_rows": null,
            "height": null,
            "justify_content": null,
            "justify_items": null,
            "left": null,
            "margin": null,
            "max_height": null,
            "max_width": null,
            "min_height": null,
            "min_width": null,
            "object_fit": null,
            "object_position": null,
            "order": null,
            "overflow": null,
            "overflow_x": null,
            "overflow_y": null,
            "padding": null,
            "right": null,
            "top": null,
            "visibility": null,
            "width": null
          }
        },
        "bdce986a1ffd4e01a17bcd0eef64083a": {
          "model_module": "@jupyter-widgets/controls",
          "model_name": "DescriptionStyleModel",
          "model_module_version": "1.5.0",
          "state": {
            "_model_module": "@jupyter-widgets/controls",
            "_model_module_version": "1.5.0",
            "_model_name": "DescriptionStyleModel",
            "_view_count": null,
            "_view_module": "@jupyter-widgets/base",
            "_view_module_version": "1.2.0",
            "_view_name": "StyleView",
            "description_width": ""
          }
        },
        "bc74b036238b46bb85fc8f2a90e8edea": {
          "model_module": "@jupyter-widgets/base",
          "model_name": "LayoutModel",
          "model_module_version": "1.2.0",
          "state": {
            "_model_module": "@jupyter-widgets/base",
            "_model_module_version": "1.2.0",
            "_model_name": "LayoutModel",
            "_view_count": null,
            "_view_module": "@jupyter-widgets/base",
            "_view_module_version": "1.2.0",
            "_view_name": "LayoutView",
            "align_content": null,
            "align_items": null,
            "align_self": null,
            "border": null,
            "bottom": null,
            "display": null,
            "flex": null,
            "flex_flow": null,
            "grid_area": null,
            "grid_auto_columns": null,
            "grid_auto_flow": null,
            "grid_auto_rows": null,
            "grid_column": null,
            "grid_gap": null,
            "grid_row": null,
            "grid_template_areas": null,
            "grid_template_columns": null,
            "grid_template_rows": null,
            "height": null,
            "justify_content": null,
            "justify_items": null,
            "left": null,
            "margin": null,
            "max_height": null,
            "max_width": null,
            "min_height": null,
            "min_width": null,
            "object_fit": null,
            "object_position": null,
            "order": null,
            "overflow": null,
            "overflow_x": null,
            "overflow_y": null,
            "padding": null,
            "right": null,
            "top": null,
            "visibility": null,
            "width": null
          }
        },
        "c39536a23a65426498e4b3bd6acc0147": {
          "model_module": "@jupyter-widgets/controls",
          "model_name": "ProgressStyleModel",
          "model_module_version": "1.5.0",
          "state": {
            "_model_module": "@jupyter-widgets/controls",
            "_model_module_version": "1.5.0",
            "_model_name": "ProgressStyleModel",
            "_view_count": null,
            "_view_module": "@jupyter-widgets/base",
            "_view_module_version": "1.2.0",
            "_view_name": "StyleView",
            "bar_color": null,
            "description_width": ""
          }
        },
        "eda47896b6f647c3be31c22620726f6d": {
          "model_module": "@jupyter-widgets/base",
          "model_name": "LayoutModel",
          "model_module_version": "1.2.0",
          "state": {
            "_model_module": "@jupyter-widgets/base",
            "_model_module_version": "1.2.0",
            "_model_name": "LayoutModel",
            "_view_count": null,
            "_view_module": "@jupyter-widgets/base",
            "_view_module_version": "1.2.0",
            "_view_name": "LayoutView",
            "align_content": null,
            "align_items": null,
            "align_self": null,
            "border": null,
            "bottom": null,
            "display": null,
            "flex": null,
            "flex_flow": null,
            "grid_area": null,
            "grid_auto_columns": null,
            "grid_auto_flow": null,
            "grid_auto_rows": null,
            "grid_column": null,
            "grid_gap": null,
            "grid_row": null,
            "grid_template_areas": null,
            "grid_template_columns": null,
            "grid_template_rows": null,
            "height": null,
            "justify_content": null,
            "justify_items": null,
            "left": null,
            "margin": null,
            "max_height": null,
            "max_width": null,
            "min_height": null,
            "min_width": null,
            "object_fit": null,
            "object_position": null,
            "order": null,
            "overflow": null,
            "overflow_x": null,
            "overflow_y": null,
            "padding": null,
            "right": null,
            "top": null,
            "visibility": null,
            "width": null
          }
        },
        "a022d35e1b844262941f15b9df6ce974": {
          "model_module": "@jupyter-widgets/controls",
          "model_name": "DescriptionStyleModel",
          "model_module_version": "1.5.0",
          "state": {
            "_model_module": "@jupyter-widgets/controls",
            "_model_module_version": "1.5.0",
            "_model_name": "DescriptionStyleModel",
            "_view_count": null,
            "_view_module": "@jupyter-widgets/base",
            "_view_module_version": "1.2.0",
            "_view_name": "StyleView",
            "description_width": ""
          }
        },
        "5d296fc248a44260b228c64d52db63d0": {
          "model_module": "@jupyter-widgets/controls",
          "model_name": "HBoxModel",
          "model_module_version": "1.5.0",
          "state": {
            "_dom_classes": [],
            "_model_module": "@jupyter-widgets/controls",
            "_model_module_version": "1.5.0",
            "_model_name": "HBoxModel",
            "_view_count": null,
            "_view_module": "@jupyter-widgets/controls",
            "_view_module_version": "1.5.0",
            "_view_name": "HBoxView",
            "box_style": "",
            "children": [
              "IPY_MODEL_a59c03b1339a46e98c8bdb986141adb1",
              "IPY_MODEL_0c2e963ca4484cf6bcbb6dc578d8e409",
              "IPY_MODEL_7cbd253a8e6a459897be8b8d8e4829ba"
            ],
            "layout": "IPY_MODEL_382ea890a60644c186b5a6ef200d066a"
          }
        },
        "a59c03b1339a46e98c8bdb986141adb1": {
          "model_module": "@jupyter-widgets/controls",
          "model_name": "HTMLModel",
          "model_module_version": "1.5.0",
          "state": {
            "_dom_classes": [],
            "_model_module": "@jupyter-widgets/controls",
            "_model_module_version": "1.5.0",
            "_model_name": "HTMLModel",
            "_view_count": null,
            "_view_module": "@jupyter-widgets/controls",
            "_view_module_version": "1.5.0",
            "_view_name": "HTMLView",
            "description": "",
            "description_tooltip": null,
            "layout": "IPY_MODEL_9efe78970aaf46d3830cefdc0295799c",
            "placeholder": "​",
            "style": "IPY_MODEL_3e48cdc41be54f8fa735f6f88a87b4e3",
            "value": "100%"
          }
        },
        "0c2e963ca4484cf6bcbb6dc578d8e409": {
          "model_module": "@jupyter-widgets/controls",
          "model_name": "FloatProgressModel",
          "model_module_version": "1.5.0",
          "state": {
            "_dom_classes": [],
            "_model_module": "@jupyter-widgets/controls",
            "_model_module_version": "1.5.0",
            "_model_name": "FloatProgressModel",
            "_view_count": null,
            "_view_module": "@jupyter-widgets/controls",
            "_view_module_version": "1.5.0",
            "_view_name": "ProgressView",
            "bar_style": "success",
            "description": "",
            "description_tooltip": null,
            "layout": "IPY_MODEL_5dc1d342a7f74cdcbd20f4a474cc6bd7",
            "max": 10,
            "min": 0,
            "orientation": "horizontal",
            "style": "IPY_MODEL_74f95e730bfb48a89df8218d5a10f774",
            "value": 10
          }
        },
        "7cbd253a8e6a459897be8b8d8e4829ba": {
          "model_module": "@jupyter-widgets/controls",
          "model_name": "HTMLModel",
          "model_module_version": "1.5.0",
          "state": {
            "_dom_classes": [],
            "_model_module": "@jupyter-widgets/controls",
            "_model_module_version": "1.5.0",
            "_model_name": "HTMLModel",
            "_view_count": null,
            "_view_module": "@jupyter-widgets/controls",
            "_view_module_version": "1.5.0",
            "_view_name": "HTMLView",
            "description": "",
            "description_tooltip": null,
            "layout": "IPY_MODEL_139ad0b1132b45e3bca26994c5664a57",
            "placeholder": "​",
            "style": "IPY_MODEL_ed31367b1f20436097518d93deb604dd",
            "value": " 10/10 [00:15&lt;00:00,  1.34s/it]"
          }
        },
        "382ea890a60644c186b5a6ef200d066a": {
          "model_module": "@jupyter-widgets/base",
          "model_name": "LayoutModel",
          "model_module_version": "1.2.0",
          "state": {
            "_model_module": "@jupyter-widgets/base",
            "_model_module_version": "1.2.0",
            "_model_name": "LayoutModel",
            "_view_count": null,
            "_view_module": "@jupyter-widgets/base",
            "_view_module_version": "1.2.0",
            "_view_name": "LayoutView",
            "align_content": null,
            "align_items": null,
            "align_self": null,
            "border": null,
            "bottom": null,
            "display": null,
            "flex": null,
            "flex_flow": null,
            "grid_area": null,
            "grid_auto_columns": null,
            "grid_auto_flow": null,
            "grid_auto_rows": null,
            "grid_column": null,
            "grid_gap": null,
            "grid_row": null,
            "grid_template_areas": null,
            "grid_template_columns": null,
            "grid_template_rows": null,
            "height": null,
            "justify_content": null,
            "justify_items": null,
            "left": null,
            "margin": null,
            "max_height": null,
            "max_width": null,
            "min_height": null,
            "min_width": null,
            "object_fit": null,
            "object_position": null,
            "order": null,
            "overflow": null,
            "overflow_x": null,
            "overflow_y": null,
            "padding": null,
            "right": null,
            "top": null,
            "visibility": null,
            "width": null
          }
        },
        "9efe78970aaf46d3830cefdc0295799c": {
          "model_module": "@jupyter-widgets/base",
          "model_name": "LayoutModel",
          "model_module_version": "1.2.0",
          "state": {
            "_model_module": "@jupyter-widgets/base",
            "_model_module_version": "1.2.0",
            "_model_name": "LayoutModel",
            "_view_count": null,
            "_view_module": "@jupyter-widgets/base",
            "_view_module_version": "1.2.0",
            "_view_name": "LayoutView",
            "align_content": null,
            "align_items": null,
            "align_self": null,
            "border": null,
            "bottom": null,
            "display": null,
            "flex": null,
            "flex_flow": null,
            "grid_area": null,
            "grid_auto_columns": null,
            "grid_auto_flow": null,
            "grid_auto_rows": null,
            "grid_column": null,
            "grid_gap": null,
            "grid_row": null,
            "grid_template_areas": null,
            "grid_template_columns": null,
            "grid_template_rows": null,
            "height": null,
            "justify_content": null,
            "justify_items": null,
            "left": null,
            "margin": null,
            "max_height": null,
            "max_width": null,
            "min_height": null,
            "min_width": null,
            "object_fit": null,
            "object_position": null,
            "order": null,
            "overflow": null,
            "overflow_x": null,
            "overflow_y": null,
            "padding": null,
            "right": null,
            "top": null,
            "visibility": null,
            "width": null
          }
        },
        "3e48cdc41be54f8fa735f6f88a87b4e3": {
          "model_module": "@jupyter-widgets/controls",
          "model_name": "DescriptionStyleModel",
          "model_module_version": "1.5.0",
          "state": {
            "_model_module": "@jupyter-widgets/controls",
            "_model_module_version": "1.5.0",
            "_model_name": "DescriptionStyleModel",
            "_view_count": null,
            "_view_module": "@jupyter-widgets/base",
            "_view_module_version": "1.2.0",
            "_view_name": "StyleView",
            "description_width": ""
          }
        },
        "5dc1d342a7f74cdcbd20f4a474cc6bd7": {
          "model_module": "@jupyter-widgets/base",
          "model_name": "LayoutModel",
          "model_module_version": "1.2.0",
          "state": {
            "_model_module": "@jupyter-widgets/base",
            "_model_module_version": "1.2.0",
            "_model_name": "LayoutModel",
            "_view_count": null,
            "_view_module": "@jupyter-widgets/base",
            "_view_module_version": "1.2.0",
            "_view_name": "LayoutView",
            "align_content": null,
            "align_items": null,
            "align_self": null,
            "border": null,
            "bottom": null,
            "display": null,
            "flex": null,
            "flex_flow": null,
            "grid_area": null,
            "grid_auto_columns": null,
            "grid_auto_flow": null,
            "grid_auto_rows": null,
            "grid_column": null,
            "grid_gap": null,
            "grid_row": null,
            "grid_template_areas": null,
            "grid_template_columns": null,
            "grid_template_rows": null,
            "height": null,
            "justify_content": null,
            "justify_items": null,
            "left": null,
            "margin": null,
            "max_height": null,
            "max_width": null,
            "min_height": null,
            "min_width": null,
            "object_fit": null,
            "object_position": null,
            "order": null,
            "overflow": null,
            "overflow_x": null,
            "overflow_y": null,
            "padding": null,
            "right": null,
            "top": null,
            "visibility": null,
            "width": null
          }
        },
        "74f95e730bfb48a89df8218d5a10f774": {
          "model_module": "@jupyter-widgets/controls",
          "model_name": "ProgressStyleModel",
          "model_module_version": "1.5.0",
          "state": {
            "_model_module": "@jupyter-widgets/controls",
            "_model_module_version": "1.5.0",
            "_model_name": "ProgressStyleModel",
            "_view_count": null,
            "_view_module": "@jupyter-widgets/base",
            "_view_module_version": "1.2.0",
            "_view_name": "StyleView",
            "bar_color": null,
            "description_width": ""
          }
        },
        "139ad0b1132b45e3bca26994c5664a57": {
          "model_module": "@jupyter-widgets/base",
          "model_name": "LayoutModel",
          "model_module_version": "1.2.0",
          "state": {
            "_model_module": "@jupyter-widgets/base",
            "_model_module_version": "1.2.0",
            "_model_name": "LayoutModel",
            "_view_count": null,
            "_view_module": "@jupyter-widgets/base",
            "_view_module_version": "1.2.0",
            "_view_name": "LayoutView",
            "align_content": null,
            "align_items": null,
            "align_self": null,
            "border": null,
            "bottom": null,
            "display": null,
            "flex": null,
            "flex_flow": null,
            "grid_area": null,
            "grid_auto_columns": null,
            "grid_auto_flow": null,
            "grid_auto_rows": null,
            "grid_column": null,
            "grid_gap": null,
            "grid_row": null,
            "grid_template_areas": null,
            "grid_template_columns": null,
            "grid_template_rows": null,
            "height": null,
            "justify_content": null,
            "justify_items": null,
            "left": null,
            "margin": null,
            "max_height": null,
            "max_width": null,
            "min_height": null,
            "min_width": null,
            "object_fit": null,
            "object_position": null,
            "order": null,
            "overflow": null,
            "overflow_x": null,
            "overflow_y": null,
            "padding": null,
            "right": null,
            "top": null,
            "visibility": null,
            "width": null
          }
        },
        "ed31367b1f20436097518d93deb604dd": {
          "model_module": "@jupyter-widgets/controls",
          "model_name": "DescriptionStyleModel",
          "model_module_version": "1.5.0",
          "state": {
            "_model_module": "@jupyter-widgets/controls",
            "_model_module_version": "1.5.0",
            "_model_name": "DescriptionStyleModel",
            "_view_count": null,
            "_view_module": "@jupyter-widgets/base",
            "_view_module_version": "1.2.0",
            "_view_name": "StyleView",
            "description_width": ""
          }
        },
        "abb9a1bed98040e2a2e47b9fad574a48": {
          "model_module": "@jupyter-widgets/controls",
          "model_name": "HBoxModel",
          "model_module_version": "1.5.0",
          "state": {
            "_dom_classes": [],
            "_model_module": "@jupyter-widgets/controls",
            "_model_module_version": "1.5.0",
            "_model_name": "HBoxModel",
            "_view_count": null,
            "_view_module": "@jupyter-widgets/controls",
            "_view_module_version": "1.5.0",
            "_view_name": "HBoxView",
            "box_style": "",
            "children": [
              "IPY_MODEL_0ed6aefd019b46769b9e2935b9e95d73",
              "IPY_MODEL_d478fb8ccdca4d1680c93c2231a35ff3",
              "IPY_MODEL_4bfe51e4fa30436ab7f445dc53434a06"
            ],
            "layout": "IPY_MODEL_8d55580946f34d5782ffb200285dcc80"
          }
        },
        "0ed6aefd019b46769b9e2935b9e95d73": {
          "model_module": "@jupyter-widgets/controls",
          "model_name": "HTMLModel",
          "model_module_version": "1.5.0",
          "state": {
            "_dom_classes": [],
            "_model_module": "@jupyter-widgets/controls",
            "_model_module_version": "1.5.0",
            "_model_name": "HTMLModel",
            "_view_count": null,
            "_view_module": "@jupyter-widgets/controls",
            "_view_module_version": "1.5.0",
            "_view_name": "HTMLView",
            "description": "",
            "description_tooltip": null,
            "layout": "IPY_MODEL_d0e5d204d47940be920f867a52d7aaa7",
            "placeholder": "​",
            "style": "IPY_MODEL_431fa766aeb6451ab12471bb06cd2adc",
            "value": "100%"
          }
        },
        "d478fb8ccdca4d1680c93c2231a35ff3": {
          "model_module": "@jupyter-widgets/controls",
          "model_name": "FloatProgressModel",
          "model_module_version": "1.5.0",
          "state": {
            "_dom_classes": [],
            "_model_module": "@jupyter-widgets/controls",
            "_model_module_version": "1.5.0",
            "_model_name": "FloatProgressModel",
            "_view_count": null,
            "_view_module": "@jupyter-widgets/controls",
            "_view_module_version": "1.5.0",
            "_view_name": "ProgressView",
            "bar_style": "success",
            "description": "",
            "description_tooltip": null,
            "layout": "IPY_MODEL_6e84426c20a84240a502b702ccb9023f",
            "max": 3,
            "min": 0,
            "orientation": "horizontal",
            "style": "IPY_MODEL_4dd5709c729242e2ab9952ddcf6e47ab",
            "value": 3
          }
        },
        "4bfe51e4fa30436ab7f445dc53434a06": {
          "model_module": "@jupyter-widgets/controls",
          "model_name": "HTMLModel",
          "model_module_version": "1.5.0",
          "state": {
            "_dom_classes": [],
            "_model_module": "@jupyter-widgets/controls",
            "_model_module_version": "1.5.0",
            "_model_name": "HTMLModel",
            "_view_count": null,
            "_view_module": "@jupyter-widgets/controls",
            "_view_module_version": "1.5.0",
            "_view_name": "HTMLView",
            "description": "",
            "description_tooltip": null,
            "layout": "IPY_MODEL_09d903785c4c4026ae986f68aaef48ad",
            "placeholder": "​",
            "style": "IPY_MODEL_c049042393564d8aa7a4a9639406c02f",
            "value": " 3/3 [00:00&lt;00:00,  3.41it/s]"
          }
        },
        "8d55580946f34d5782ffb200285dcc80": {
          "model_module": "@jupyter-widgets/base",
          "model_name": "LayoutModel",
          "model_module_version": "1.2.0",
          "state": {
            "_model_module": "@jupyter-widgets/base",
            "_model_module_version": "1.2.0",
            "_model_name": "LayoutModel",
            "_view_count": null,
            "_view_module": "@jupyter-widgets/base",
            "_view_module_version": "1.2.0",
            "_view_name": "LayoutView",
            "align_content": null,
            "align_items": null,
            "align_self": null,
            "border": null,
            "bottom": null,
            "display": null,
            "flex": null,
            "flex_flow": null,
            "grid_area": null,
            "grid_auto_columns": null,
            "grid_auto_flow": null,
            "grid_auto_rows": null,
            "grid_column": null,
            "grid_gap": null,
            "grid_row": null,
            "grid_template_areas": null,
            "grid_template_columns": null,
            "grid_template_rows": null,
            "height": null,
            "justify_content": null,
            "justify_items": null,
            "left": null,
            "margin": null,
            "max_height": null,
            "max_width": null,
            "min_height": null,
            "min_width": null,
            "object_fit": null,
            "object_position": null,
            "order": null,
            "overflow": null,
            "overflow_x": null,
            "overflow_y": null,
            "padding": null,
            "right": null,
            "top": null,
            "visibility": null,
            "width": null
          }
        },
        "d0e5d204d47940be920f867a52d7aaa7": {
          "model_module": "@jupyter-widgets/base",
          "model_name": "LayoutModel",
          "model_module_version": "1.2.0",
          "state": {
            "_model_module": "@jupyter-widgets/base",
            "_model_module_version": "1.2.0",
            "_model_name": "LayoutModel",
            "_view_count": null,
            "_view_module": "@jupyter-widgets/base",
            "_view_module_version": "1.2.0",
            "_view_name": "LayoutView",
            "align_content": null,
            "align_items": null,
            "align_self": null,
            "border": null,
            "bottom": null,
            "display": null,
            "flex": null,
            "flex_flow": null,
            "grid_area": null,
            "grid_auto_columns": null,
            "grid_auto_flow": null,
            "grid_auto_rows": null,
            "grid_column": null,
            "grid_gap": null,
            "grid_row": null,
            "grid_template_areas": null,
            "grid_template_columns": null,
            "grid_template_rows": null,
            "height": null,
            "justify_content": null,
            "justify_items": null,
            "left": null,
            "margin": null,
            "max_height": null,
            "max_width": null,
            "min_height": null,
            "min_width": null,
            "object_fit": null,
            "object_position": null,
            "order": null,
            "overflow": null,
            "overflow_x": null,
            "overflow_y": null,
            "padding": null,
            "right": null,
            "top": null,
            "visibility": null,
            "width": null
          }
        },
        "431fa766aeb6451ab12471bb06cd2adc": {
          "model_module": "@jupyter-widgets/controls",
          "model_name": "DescriptionStyleModel",
          "model_module_version": "1.5.0",
          "state": {
            "_model_module": "@jupyter-widgets/controls",
            "_model_module_version": "1.5.0",
            "_model_name": "DescriptionStyleModel",
            "_view_count": null,
            "_view_module": "@jupyter-widgets/base",
            "_view_module_version": "1.2.0",
            "_view_name": "StyleView",
            "description_width": ""
          }
        },
        "6e84426c20a84240a502b702ccb9023f": {
          "model_module": "@jupyter-widgets/base",
          "model_name": "LayoutModel",
          "model_module_version": "1.2.0",
          "state": {
            "_model_module": "@jupyter-widgets/base",
            "_model_module_version": "1.2.0",
            "_model_name": "LayoutModel",
            "_view_count": null,
            "_view_module": "@jupyter-widgets/base",
            "_view_module_version": "1.2.0",
            "_view_name": "LayoutView",
            "align_content": null,
            "align_items": null,
            "align_self": null,
            "border": null,
            "bottom": null,
            "display": null,
            "flex": null,
            "flex_flow": null,
            "grid_area": null,
            "grid_auto_columns": null,
            "grid_auto_flow": null,
            "grid_auto_rows": null,
            "grid_column": null,
            "grid_gap": null,
            "grid_row": null,
            "grid_template_areas": null,
            "grid_template_columns": null,
            "grid_template_rows": null,
            "height": null,
            "justify_content": null,
            "justify_items": null,
            "left": null,
            "margin": null,
            "max_height": null,
            "max_width": null,
            "min_height": null,
            "min_width": null,
            "object_fit": null,
            "object_position": null,
            "order": null,
            "overflow": null,
            "overflow_x": null,
            "overflow_y": null,
            "padding": null,
            "right": null,
            "top": null,
            "visibility": null,
            "width": null
          }
        },
        "4dd5709c729242e2ab9952ddcf6e47ab": {
          "model_module": "@jupyter-widgets/controls",
          "model_name": "ProgressStyleModel",
          "model_module_version": "1.5.0",
          "state": {
            "_model_module": "@jupyter-widgets/controls",
            "_model_module_version": "1.5.0",
            "_model_name": "ProgressStyleModel",
            "_view_count": null,
            "_view_module": "@jupyter-widgets/base",
            "_view_module_version": "1.2.0",
            "_view_name": "StyleView",
            "bar_color": null,
            "description_width": ""
          }
        },
        "09d903785c4c4026ae986f68aaef48ad": {
          "model_module": "@jupyter-widgets/base",
          "model_name": "LayoutModel",
          "model_module_version": "1.2.0",
          "state": {
            "_model_module": "@jupyter-widgets/base",
            "_model_module_version": "1.2.0",
            "_model_name": "LayoutModel",
            "_view_count": null,
            "_view_module": "@jupyter-widgets/base",
            "_view_module_version": "1.2.0",
            "_view_name": "LayoutView",
            "align_content": null,
            "align_items": null,
            "align_self": null,
            "border": null,
            "bottom": null,
            "display": null,
            "flex": null,
            "flex_flow": null,
            "grid_area": null,
            "grid_auto_columns": null,
            "grid_auto_flow": null,
            "grid_auto_rows": null,
            "grid_column": null,
            "grid_gap": null,
            "grid_row": null,
            "grid_template_areas": null,
            "grid_template_columns": null,
            "grid_template_rows": null,
            "height": null,
            "justify_content": null,
            "justify_items": null,
            "left": null,
            "margin": null,
            "max_height": null,
            "max_width": null,
            "min_height": null,
            "min_width": null,
            "object_fit": null,
            "object_position": null,
            "order": null,
            "overflow": null,
            "overflow_x": null,
            "overflow_y": null,
            "padding": null,
            "right": null,
            "top": null,
            "visibility": null,
            "width": null
          }
        },
        "c049042393564d8aa7a4a9639406c02f": {
          "model_module": "@jupyter-widgets/controls",
          "model_name": "DescriptionStyleModel",
          "model_module_version": "1.5.0",
          "state": {
            "_model_module": "@jupyter-widgets/controls",
            "_model_module_version": "1.5.0",
            "_model_name": "DescriptionStyleModel",
            "_view_count": null,
            "_view_module": "@jupyter-widgets/base",
            "_view_module_version": "1.2.0",
            "_view_name": "StyleView",
            "description_width": ""
          }
        },
        "5e677c94afc14d6297536ac33aafc24d": {
          "model_module": "@jupyter-widgets/controls",
          "model_name": "HBoxModel",
          "model_module_version": "1.5.0",
          "state": {
            "_dom_classes": [],
            "_model_module": "@jupyter-widgets/controls",
            "_model_module_version": "1.5.0",
            "_model_name": "HBoxModel",
            "_view_count": null,
            "_view_module": "@jupyter-widgets/controls",
            "_view_module_version": "1.5.0",
            "_view_name": "HBoxView",
            "box_style": "",
            "children": [
              "IPY_MODEL_f1f578cdfffd4518b82a1770f1daa1d3",
              "IPY_MODEL_781afbba98654d6aafb719411e16c313",
              "IPY_MODEL_56587d9ceb7d48a6a874e5094d59ea7d"
            ],
            "layout": "IPY_MODEL_25d82708376240ada3b3cd9a293377ae"
          }
        },
        "f1f578cdfffd4518b82a1770f1daa1d3": {
          "model_module": "@jupyter-widgets/controls",
          "model_name": "HTMLModel",
          "model_module_version": "1.5.0",
          "state": {
            "_dom_classes": [],
            "_model_module": "@jupyter-widgets/controls",
            "_model_module_version": "1.5.0",
            "_model_name": "HTMLModel",
            "_view_count": null,
            "_view_module": "@jupyter-widgets/controls",
            "_view_module_version": "1.5.0",
            "_view_name": "HTMLView",
            "description": "",
            "description_tooltip": null,
            "layout": "IPY_MODEL_9177e45ea03e43aaa253ad3b414ec84d",
            "placeholder": "​",
            "style": "IPY_MODEL_fb2c71c0768e4aa8b67ad3ba00ee1f4b",
            "value": "100%"
          }
        },
        "781afbba98654d6aafb719411e16c313": {
          "model_module": "@jupyter-widgets/controls",
          "model_name": "FloatProgressModel",
          "model_module_version": "1.5.0",
          "state": {
            "_dom_classes": [],
            "_model_module": "@jupyter-widgets/controls",
            "_model_module_version": "1.5.0",
            "_model_name": "FloatProgressModel",
            "_view_count": null,
            "_view_module": "@jupyter-widgets/controls",
            "_view_module_version": "1.5.0",
            "_view_name": "ProgressView",
            "bar_style": "success",
            "description": "",
            "description_tooltip": null,
            "layout": "IPY_MODEL_266549310120444a9e94e3ba482f9fc2",
            "max": 10,
            "min": 0,
            "orientation": "horizontal",
            "style": "IPY_MODEL_0d2d1a8ba1904d839481d3ecbac88132",
            "value": 10
          }
        },
        "56587d9ceb7d48a6a874e5094d59ea7d": {
          "model_module": "@jupyter-widgets/controls",
          "model_name": "HTMLModel",
          "model_module_version": "1.5.0",
          "state": {
            "_dom_classes": [],
            "_model_module": "@jupyter-widgets/controls",
            "_model_module_version": "1.5.0",
            "_model_name": "HTMLModel",
            "_view_count": null,
            "_view_module": "@jupyter-widgets/controls",
            "_view_module_version": "1.5.0",
            "_view_name": "HTMLView",
            "description": "",
            "description_tooltip": null,
            "layout": "IPY_MODEL_1bf06e0220604630b4cb6dbab5e7ddd6",
            "placeholder": "​",
            "style": "IPY_MODEL_53b192eb33254fe7a81f1cbc2841433f",
            "value": " 10/10 [00:18&lt;00:00,  1.53s/it]"
          }
        },
        "25d82708376240ada3b3cd9a293377ae": {
          "model_module": "@jupyter-widgets/base",
          "model_name": "LayoutModel",
          "model_module_version": "1.2.0",
          "state": {
            "_model_module": "@jupyter-widgets/base",
            "_model_module_version": "1.2.0",
            "_model_name": "LayoutModel",
            "_view_count": null,
            "_view_module": "@jupyter-widgets/base",
            "_view_module_version": "1.2.0",
            "_view_name": "LayoutView",
            "align_content": null,
            "align_items": null,
            "align_self": null,
            "border": null,
            "bottom": null,
            "display": null,
            "flex": null,
            "flex_flow": null,
            "grid_area": null,
            "grid_auto_columns": null,
            "grid_auto_flow": null,
            "grid_auto_rows": null,
            "grid_column": null,
            "grid_gap": null,
            "grid_row": null,
            "grid_template_areas": null,
            "grid_template_columns": null,
            "grid_template_rows": null,
            "height": null,
            "justify_content": null,
            "justify_items": null,
            "left": null,
            "margin": null,
            "max_height": null,
            "max_width": null,
            "min_height": null,
            "min_width": null,
            "object_fit": null,
            "object_position": null,
            "order": null,
            "overflow": null,
            "overflow_x": null,
            "overflow_y": null,
            "padding": null,
            "right": null,
            "top": null,
            "visibility": null,
            "width": null
          }
        },
        "9177e45ea03e43aaa253ad3b414ec84d": {
          "model_module": "@jupyter-widgets/base",
          "model_name": "LayoutModel",
          "model_module_version": "1.2.0",
          "state": {
            "_model_module": "@jupyter-widgets/base",
            "_model_module_version": "1.2.0",
            "_model_name": "LayoutModel",
            "_view_count": null,
            "_view_module": "@jupyter-widgets/base",
            "_view_module_version": "1.2.0",
            "_view_name": "LayoutView",
            "align_content": null,
            "align_items": null,
            "align_self": null,
            "border": null,
            "bottom": null,
            "display": null,
            "flex": null,
            "flex_flow": null,
            "grid_area": null,
            "grid_auto_columns": null,
            "grid_auto_flow": null,
            "grid_auto_rows": null,
            "grid_column": null,
            "grid_gap": null,
            "grid_row": null,
            "grid_template_areas": null,
            "grid_template_columns": null,
            "grid_template_rows": null,
            "height": null,
            "justify_content": null,
            "justify_items": null,
            "left": null,
            "margin": null,
            "max_height": null,
            "max_width": null,
            "min_height": null,
            "min_width": null,
            "object_fit": null,
            "object_position": null,
            "order": null,
            "overflow": null,
            "overflow_x": null,
            "overflow_y": null,
            "padding": null,
            "right": null,
            "top": null,
            "visibility": null,
            "width": null
          }
        },
        "fb2c71c0768e4aa8b67ad3ba00ee1f4b": {
          "model_module": "@jupyter-widgets/controls",
          "model_name": "DescriptionStyleModel",
          "model_module_version": "1.5.0",
          "state": {
            "_model_module": "@jupyter-widgets/controls",
            "_model_module_version": "1.5.0",
            "_model_name": "DescriptionStyleModel",
            "_view_count": null,
            "_view_module": "@jupyter-widgets/base",
            "_view_module_version": "1.2.0",
            "_view_name": "StyleView",
            "description_width": ""
          }
        },
        "266549310120444a9e94e3ba482f9fc2": {
          "model_module": "@jupyter-widgets/base",
          "model_name": "LayoutModel",
          "model_module_version": "1.2.0",
          "state": {
            "_model_module": "@jupyter-widgets/base",
            "_model_module_version": "1.2.0",
            "_model_name": "LayoutModel",
            "_view_count": null,
            "_view_module": "@jupyter-widgets/base",
            "_view_module_version": "1.2.0",
            "_view_name": "LayoutView",
            "align_content": null,
            "align_items": null,
            "align_self": null,
            "border": null,
            "bottom": null,
            "display": null,
            "flex": null,
            "flex_flow": null,
            "grid_area": null,
            "grid_auto_columns": null,
            "grid_auto_flow": null,
            "grid_auto_rows": null,
            "grid_column": null,
            "grid_gap": null,
            "grid_row": null,
            "grid_template_areas": null,
            "grid_template_columns": null,
            "grid_template_rows": null,
            "height": null,
            "justify_content": null,
            "justify_items": null,
            "left": null,
            "margin": null,
            "max_height": null,
            "max_width": null,
            "min_height": null,
            "min_width": null,
            "object_fit": null,
            "object_position": null,
            "order": null,
            "overflow": null,
            "overflow_x": null,
            "overflow_y": null,
            "padding": null,
            "right": null,
            "top": null,
            "visibility": null,
            "width": null
          }
        },
        "0d2d1a8ba1904d839481d3ecbac88132": {
          "model_module": "@jupyter-widgets/controls",
          "model_name": "ProgressStyleModel",
          "model_module_version": "1.5.0",
          "state": {
            "_model_module": "@jupyter-widgets/controls",
            "_model_module_version": "1.5.0",
            "_model_name": "ProgressStyleModel",
            "_view_count": null,
            "_view_module": "@jupyter-widgets/base",
            "_view_module_version": "1.2.0",
            "_view_name": "StyleView",
            "bar_color": null,
            "description_width": ""
          }
        },
        "1bf06e0220604630b4cb6dbab5e7ddd6": {
          "model_module": "@jupyter-widgets/base",
          "model_name": "LayoutModel",
          "model_module_version": "1.2.0",
          "state": {
            "_model_module": "@jupyter-widgets/base",
            "_model_module_version": "1.2.0",
            "_model_name": "LayoutModel",
            "_view_count": null,
            "_view_module": "@jupyter-widgets/base",
            "_view_module_version": "1.2.0",
            "_view_name": "LayoutView",
            "align_content": null,
            "align_items": null,
            "align_self": null,
            "border": null,
            "bottom": null,
            "display": null,
            "flex": null,
            "flex_flow": null,
            "grid_area": null,
            "grid_auto_columns": null,
            "grid_auto_flow": null,
            "grid_auto_rows": null,
            "grid_column": null,
            "grid_gap": null,
            "grid_row": null,
            "grid_template_areas": null,
            "grid_template_columns": null,
            "grid_template_rows": null,
            "height": null,
            "justify_content": null,
            "justify_items": null,
            "left": null,
            "margin": null,
            "max_height": null,
            "max_width": null,
            "min_height": null,
            "min_width": null,
            "object_fit": null,
            "object_position": null,
            "order": null,
            "overflow": null,
            "overflow_x": null,
            "overflow_y": null,
            "padding": null,
            "right": null,
            "top": null,
            "visibility": null,
            "width": null
          }
        },
        "53b192eb33254fe7a81f1cbc2841433f": {
          "model_module": "@jupyter-widgets/controls",
          "model_name": "DescriptionStyleModel",
          "model_module_version": "1.5.0",
          "state": {
            "_model_module": "@jupyter-widgets/controls",
            "_model_module_version": "1.5.0",
            "_model_name": "DescriptionStyleModel",
            "_view_count": null,
            "_view_module": "@jupyter-widgets/base",
            "_view_module_version": "1.2.0",
            "_view_name": "StyleView",
            "description_width": ""
          }
        },
        "0b2e6e11770d4a56868741b54c261268": {
          "model_module": "@jupyter-widgets/controls",
          "model_name": "HBoxModel",
          "model_module_version": "1.5.0",
          "state": {
            "_dom_classes": [],
            "_model_module": "@jupyter-widgets/controls",
            "_model_module_version": "1.5.0",
            "_model_name": "HBoxModel",
            "_view_count": null,
            "_view_module": "@jupyter-widgets/controls",
            "_view_module_version": "1.5.0",
            "_view_name": "HBoxView",
            "box_style": "",
            "children": [
              "IPY_MODEL_189be6ee221f48259c1bcb76e0dfb6ab",
              "IPY_MODEL_f224579300b248d995e9fa160604e39b",
              "IPY_MODEL_bb7efc7512ee47888b8ca9a4dc442d29"
            ],
            "layout": "IPY_MODEL_88d1a0435b0847b981af47e1a31e5933"
          }
        },
        "189be6ee221f48259c1bcb76e0dfb6ab": {
          "model_module": "@jupyter-widgets/controls",
          "model_name": "HTMLModel",
          "model_module_version": "1.5.0",
          "state": {
            "_dom_classes": [],
            "_model_module": "@jupyter-widgets/controls",
            "_model_module_version": "1.5.0",
            "_model_name": "HTMLModel",
            "_view_count": null,
            "_view_module": "@jupyter-widgets/controls",
            "_view_module_version": "1.5.0",
            "_view_name": "HTMLView",
            "description": "",
            "description_tooltip": null,
            "layout": "IPY_MODEL_8a043bdbd0f24fea9960df6b2f4e8675",
            "placeholder": "​",
            "style": "IPY_MODEL_2447982cd0c94f7784ee87ba005b33d1",
            "value": "100%"
          }
        },
        "f224579300b248d995e9fa160604e39b": {
          "model_module": "@jupyter-widgets/controls",
          "model_name": "FloatProgressModel",
          "model_module_version": "1.5.0",
          "state": {
            "_dom_classes": [],
            "_model_module": "@jupyter-widgets/controls",
            "_model_module_version": "1.5.0",
            "_model_name": "FloatProgressModel",
            "_view_count": null,
            "_view_module": "@jupyter-widgets/controls",
            "_view_module_version": "1.5.0",
            "_view_name": "ProgressView",
            "bar_style": "success",
            "description": "",
            "description_tooltip": null,
            "layout": "IPY_MODEL_58d5cb4e3504412b89870fd3891a3037",
            "max": 3,
            "min": 0,
            "orientation": "horizontal",
            "style": "IPY_MODEL_186945fc9a3047fcaf41e4348e6015df",
            "value": 3
          }
        },
        "bb7efc7512ee47888b8ca9a4dc442d29": {
          "model_module": "@jupyter-widgets/controls",
          "model_name": "HTMLModel",
          "model_module_version": "1.5.0",
          "state": {
            "_dom_classes": [],
            "_model_module": "@jupyter-widgets/controls",
            "_model_module_version": "1.5.0",
            "_model_name": "HTMLModel",
            "_view_count": null,
            "_view_module": "@jupyter-widgets/controls",
            "_view_module_version": "1.5.0",
            "_view_name": "HTMLView",
            "description": "",
            "description_tooltip": null,
            "layout": "IPY_MODEL_35482943c061407fa67be9d41c59cf54",
            "placeholder": "​",
            "style": "IPY_MODEL_05f0c94443ec43b7a64cd6b95f0cb1a5",
            "value": " 3/3 [00:00&lt;00:00,  3.49it/s]"
          }
        },
        "88d1a0435b0847b981af47e1a31e5933": {
          "model_module": "@jupyter-widgets/base",
          "model_name": "LayoutModel",
          "model_module_version": "1.2.0",
          "state": {
            "_model_module": "@jupyter-widgets/base",
            "_model_module_version": "1.2.0",
            "_model_name": "LayoutModel",
            "_view_count": null,
            "_view_module": "@jupyter-widgets/base",
            "_view_module_version": "1.2.0",
            "_view_name": "LayoutView",
            "align_content": null,
            "align_items": null,
            "align_self": null,
            "border": null,
            "bottom": null,
            "display": null,
            "flex": null,
            "flex_flow": null,
            "grid_area": null,
            "grid_auto_columns": null,
            "grid_auto_flow": null,
            "grid_auto_rows": null,
            "grid_column": null,
            "grid_gap": null,
            "grid_row": null,
            "grid_template_areas": null,
            "grid_template_columns": null,
            "grid_template_rows": null,
            "height": null,
            "justify_content": null,
            "justify_items": null,
            "left": null,
            "margin": null,
            "max_height": null,
            "max_width": null,
            "min_height": null,
            "min_width": null,
            "object_fit": null,
            "object_position": null,
            "order": null,
            "overflow": null,
            "overflow_x": null,
            "overflow_y": null,
            "padding": null,
            "right": null,
            "top": null,
            "visibility": null,
            "width": null
          }
        },
        "8a043bdbd0f24fea9960df6b2f4e8675": {
          "model_module": "@jupyter-widgets/base",
          "model_name": "LayoutModel",
          "model_module_version": "1.2.0",
          "state": {
            "_model_module": "@jupyter-widgets/base",
            "_model_module_version": "1.2.0",
            "_model_name": "LayoutModel",
            "_view_count": null,
            "_view_module": "@jupyter-widgets/base",
            "_view_module_version": "1.2.0",
            "_view_name": "LayoutView",
            "align_content": null,
            "align_items": null,
            "align_self": null,
            "border": null,
            "bottom": null,
            "display": null,
            "flex": null,
            "flex_flow": null,
            "grid_area": null,
            "grid_auto_columns": null,
            "grid_auto_flow": null,
            "grid_auto_rows": null,
            "grid_column": null,
            "grid_gap": null,
            "grid_row": null,
            "grid_template_areas": null,
            "grid_template_columns": null,
            "grid_template_rows": null,
            "height": null,
            "justify_content": null,
            "justify_items": null,
            "left": null,
            "margin": null,
            "max_height": null,
            "max_width": null,
            "min_height": null,
            "min_width": null,
            "object_fit": null,
            "object_position": null,
            "order": null,
            "overflow": null,
            "overflow_x": null,
            "overflow_y": null,
            "padding": null,
            "right": null,
            "top": null,
            "visibility": null,
            "width": null
          }
        },
        "2447982cd0c94f7784ee87ba005b33d1": {
          "model_module": "@jupyter-widgets/controls",
          "model_name": "DescriptionStyleModel",
          "model_module_version": "1.5.0",
          "state": {
            "_model_module": "@jupyter-widgets/controls",
            "_model_module_version": "1.5.0",
            "_model_name": "DescriptionStyleModel",
            "_view_count": null,
            "_view_module": "@jupyter-widgets/base",
            "_view_module_version": "1.2.0",
            "_view_name": "StyleView",
            "description_width": ""
          }
        },
        "58d5cb4e3504412b89870fd3891a3037": {
          "model_module": "@jupyter-widgets/base",
          "model_name": "LayoutModel",
          "model_module_version": "1.2.0",
          "state": {
            "_model_module": "@jupyter-widgets/base",
            "_model_module_version": "1.2.0",
            "_model_name": "LayoutModel",
            "_view_count": null,
            "_view_module": "@jupyter-widgets/base",
            "_view_module_version": "1.2.0",
            "_view_name": "LayoutView",
            "align_content": null,
            "align_items": null,
            "align_self": null,
            "border": null,
            "bottom": null,
            "display": null,
            "flex": null,
            "flex_flow": null,
            "grid_area": null,
            "grid_auto_columns": null,
            "grid_auto_flow": null,
            "grid_auto_rows": null,
            "grid_column": null,
            "grid_gap": null,
            "grid_row": null,
            "grid_template_areas": null,
            "grid_template_columns": null,
            "grid_template_rows": null,
            "height": null,
            "justify_content": null,
            "justify_items": null,
            "left": null,
            "margin": null,
            "max_height": null,
            "max_width": null,
            "min_height": null,
            "min_width": null,
            "object_fit": null,
            "object_position": null,
            "order": null,
            "overflow": null,
            "overflow_x": null,
            "overflow_y": null,
            "padding": null,
            "right": null,
            "top": null,
            "visibility": null,
            "width": null
          }
        },
        "186945fc9a3047fcaf41e4348e6015df": {
          "model_module": "@jupyter-widgets/controls",
          "model_name": "ProgressStyleModel",
          "model_module_version": "1.5.0",
          "state": {
            "_model_module": "@jupyter-widgets/controls",
            "_model_module_version": "1.5.0",
            "_model_name": "ProgressStyleModel",
            "_view_count": null,
            "_view_module": "@jupyter-widgets/base",
            "_view_module_version": "1.2.0",
            "_view_name": "StyleView",
            "bar_color": null,
            "description_width": ""
          }
        },
        "35482943c061407fa67be9d41c59cf54": {
          "model_module": "@jupyter-widgets/base",
          "model_name": "LayoutModel",
          "model_module_version": "1.2.0",
          "state": {
            "_model_module": "@jupyter-widgets/base",
            "_model_module_version": "1.2.0",
            "_model_name": "LayoutModel",
            "_view_count": null,
            "_view_module": "@jupyter-widgets/base",
            "_view_module_version": "1.2.0",
            "_view_name": "LayoutView",
            "align_content": null,
            "align_items": null,
            "align_self": null,
            "border": null,
            "bottom": null,
            "display": null,
            "flex": null,
            "flex_flow": null,
            "grid_area": null,
            "grid_auto_columns": null,
            "grid_auto_flow": null,
            "grid_auto_rows": null,
            "grid_column": null,
            "grid_gap": null,
            "grid_row": null,
            "grid_template_areas": null,
            "grid_template_columns": null,
            "grid_template_rows": null,
            "height": null,
            "justify_content": null,
            "justify_items": null,
            "left": null,
            "margin": null,
            "max_height": null,
            "max_width": null,
            "min_height": null,
            "min_width": null,
            "object_fit": null,
            "object_position": null,
            "order": null,
            "overflow": null,
            "overflow_x": null,
            "overflow_y": null,
            "padding": null,
            "right": null,
            "top": null,
            "visibility": null,
            "width": null
          }
        },
        "05f0c94443ec43b7a64cd6b95f0cb1a5": {
          "model_module": "@jupyter-widgets/controls",
          "model_name": "DescriptionStyleModel",
          "model_module_version": "1.5.0",
          "state": {
            "_model_module": "@jupyter-widgets/controls",
            "_model_module_version": "1.5.0",
            "_model_name": "DescriptionStyleModel",
            "_view_count": null,
            "_view_module": "@jupyter-widgets/base",
            "_view_module_version": "1.2.0",
            "_view_name": "StyleView",
            "description_width": ""
          }
        },
        "8081f05aa9354b7c9fd8d59e77e665d1": {
          "model_module": "@jupyter-widgets/controls",
          "model_name": "HBoxModel",
          "model_module_version": "1.5.0",
          "state": {
            "_dom_classes": [],
            "_model_module": "@jupyter-widgets/controls",
            "_model_module_version": "1.5.0",
            "_model_name": "HBoxModel",
            "_view_count": null,
            "_view_module": "@jupyter-widgets/controls",
            "_view_module_version": "1.5.0",
            "_view_name": "HBoxView",
            "box_style": "",
            "children": [
              "IPY_MODEL_10e69f8b46dd4227997b85dda2f986d5",
              "IPY_MODEL_87bb8e3994084eb8a5017f6eaeb6b2ec",
              "IPY_MODEL_8173cae33dcc43809cd9debf47931a83"
            ],
            "layout": "IPY_MODEL_e354ba0a80a74356be8751c53c0b32f3"
          }
        },
        "10e69f8b46dd4227997b85dda2f986d5": {
          "model_module": "@jupyter-widgets/controls",
          "model_name": "HTMLModel",
          "model_module_version": "1.5.0",
          "state": {
            "_dom_classes": [],
            "_model_module": "@jupyter-widgets/controls",
            "_model_module_version": "1.5.0",
            "_model_name": "HTMLModel",
            "_view_count": null,
            "_view_module": "@jupyter-widgets/controls",
            "_view_module_version": "1.5.0",
            "_view_name": "HTMLView",
            "description": "",
            "description_tooltip": null,
            "layout": "IPY_MODEL_d6c3b1e5dac048c9a9404506967839cb",
            "placeholder": "​",
            "style": "IPY_MODEL_0097ac5786914c3bbd929bc614097852",
            "value": "100%"
          }
        },
        "87bb8e3994084eb8a5017f6eaeb6b2ec": {
          "model_module": "@jupyter-widgets/controls",
          "model_name": "FloatProgressModel",
          "model_module_version": "1.5.0",
          "state": {
            "_dom_classes": [],
            "_model_module": "@jupyter-widgets/controls",
            "_model_module_version": "1.5.0",
            "_model_name": "FloatProgressModel",
            "_view_count": null,
            "_view_module": "@jupyter-widgets/controls",
            "_view_module_version": "1.5.0",
            "_view_name": "ProgressView",
            "bar_style": "success",
            "description": "",
            "description_tooltip": null,
            "layout": "IPY_MODEL_b1374b9b9a1148b99a42d93dd748d5ea",
            "max": 10,
            "min": 0,
            "orientation": "horizontal",
            "style": "IPY_MODEL_5d100398990f4007a8e63227dab328de",
            "value": 10
          }
        },
        "8173cae33dcc43809cd9debf47931a83": {
          "model_module": "@jupyter-widgets/controls",
          "model_name": "HTMLModel",
          "model_module_version": "1.5.0",
          "state": {
            "_dom_classes": [],
            "_model_module": "@jupyter-widgets/controls",
            "_model_module_version": "1.5.0",
            "_model_name": "HTMLModel",
            "_view_count": null,
            "_view_module": "@jupyter-widgets/controls",
            "_view_module_version": "1.5.0",
            "_view_name": "HTMLView",
            "description": "",
            "description_tooltip": null,
            "layout": "IPY_MODEL_5f4d17aca540463684126c78f29cd727",
            "placeholder": "​",
            "style": "IPY_MODEL_0aafcbd9e340417fb47c9bb41e8ef0d1",
            "value": " 10/10 [00:16&lt;00:00,  1.38s/it]"
          }
        },
        "e354ba0a80a74356be8751c53c0b32f3": {
          "model_module": "@jupyter-widgets/base",
          "model_name": "LayoutModel",
          "model_module_version": "1.2.0",
          "state": {
            "_model_module": "@jupyter-widgets/base",
            "_model_module_version": "1.2.0",
            "_model_name": "LayoutModel",
            "_view_count": null,
            "_view_module": "@jupyter-widgets/base",
            "_view_module_version": "1.2.0",
            "_view_name": "LayoutView",
            "align_content": null,
            "align_items": null,
            "align_self": null,
            "border": null,
            "bottom": null,
            "display": null,
            "flex": null,
            "flex_flow": null,
            "grid_area": null,
            "grid_auto_columns": null,
            "grid_auto_flow": null,
            "grid_auto_rows": null,
            "grid_column": null,
            "grid_gap": null,
            "grid_row": null,
            "grid_template_areas": null,
            "grid_template_columns": null,
            "grid_template_rows": null,
            "height": null,
            "justify_content": null,
            "justify_items": null,
            "left": null,
            "margin": null,
            "max_height": null,
            "max_width": null,
            "min_height": null,
            "min_width": null,
            "object_fit": null,
            "object_position": null,
            "order": null,
            "overflow": null,
            "overflow_x": null,
            "overflow_y": null,
            "padding": null,
            "right": null,
            "top": null,
            "visibility": null,
            "width": null
          }
        },
        "d6c3b1e5dac048c9a9404506967839cb": {
          "model_module": "@jupyter-widgets/base",
          "model_name": "LayoutModel",
          "model_module_version": "1.2.0",
          "state": {
            "_model_module": "@jupyter-widgets/base",
            "_model_module_version": "1.2.0",
            "_model_name": "LayoutModel",
            "_view_count": null,
            "_view_module": "@jupyter-widgets/base",
            "_view_module_version": "1.2.0",
            "_view_name": "LayoutView",
            "align_content": null,
            "align_items": null,
            "align_self": null,
            "border": null,
            "bottom": null,
            "display": null,
            "flex": null,
            "flex_flow": null,
            "grid_area": null,
            "grid_auto_columns": null,
            "grid_auto_flow": null,
            "grid_auto_rows": null,
            "grid_column": null,
            "grid_gap": null,
            "grid_row": null,
            "grid_template_areas": null,
            "grid_template_columns": null,
            "grid_template_rows": null,
            "height": null,
            "justify_content": null,
            "justify_items": null,
            "left": null,
            "margin": null,
            "max_height": null,
            "max_width": null,
            "min_height": null,
            "min_width": null,
            "object_fit": null,
            "object_position": null,
            "order": null,
            "overflow": null,
            "overflow_x": null,
            "overflow_y": null,
            "padding": null,
            "right": null,
            "top": null,
            "visibility": null,
            "width": null
          }
        },
        "0097ac5786914c3bbd929bc614097852": {
          "model_module": "@jupyter-widgets/controls",
          "model_name": "DescriptionStyleModel",
          "model_module_version": "1.5.0",
          "state": {
            "_model_module": "@jupyter-widgets/controls",
            "_model_module_version": "1.5.0",
            "_model_name": "DescriptionStyleModel",
            "_view_count": null,
            "_view_module": "@jupyter-widgets/base",
            "_view_module_version": "1.2.0",
            "_view_name": "StyleView",
            "description_width": ""
          }
        },
        "b1374b9b9a1148b99a42d93dd748d5ea": {
          "model_module": "@jupyter-widgets/base",
          "model_name": "LayoutModel",
          "model_module_version": "1.2.0",
          "state": {
            "_model_module": "@jupyter-widgets/base",
            "_model_module_version": "1.2.0",
            "_model_name": "LayoutModel",
            "_view_count": null,
            "_view_module": "@jupyter-widgets/base",
            "_view_module_version": "1.2.0",
            "_view_name": "LayoutView",
            "align_content": null,
            "align_items": null,
            "align_self": null,
            "border": null,
            "bottom": null,
            "display": null,
            "flex": null,
            "flex_flow": null,
            "grid_area": null,
            "grid_auto_columns": null,
            "grid_auto_flow": null,
            "grid_auto_rows": null,
            "grid_column": null,
            "grid_gap": null,
            "grid_row": null,
            "grid_template_areas": null,
            "grid_template_columns": null,
            "grid_template_rows": null,
            "height": null,
            "justify_content": null,
            "justify_items": null,
            "left": null,
            "margin": null,
            "max_height": null,
            "max_width": null,
            "min_height": null,
            "min_width": null,
            "object_fit": null,
            "object_position": null,
            "order": null,
            "overflow": null,
            "overflow_x": null,
            "overflow_y": null,
            "padding": null,
            "right": null,
            "top": null,
            "visibility": null,
            "width": null
          }
        },
        "5d100398990f4007a8e63227dab328de": {
          "model_module": "@jupyter-widgets/controls",
          "model_name": "ProgressStyleModel",
          "model_module_version": "1.5.0",
          "state": {
            "_model_module": "@jupyter-widgets/controls",
            "_model_module_version": "1.5.0",
            "_model_name": "ProgressStyleModel",
            "_view_count": null,
            "_view_module": "@jupyter-widgets/base",
            "_view_module_version": "1.2.0",
            "_view_name": "StyleView",
            "bar_color": null,
            "description_width": ""
          }
        },
        "5f4d17aca540463684126c78f29cd727": {
          "model_module": "@jupyter-widgets/base",
          "model_name": "LayoutModel",
          "model_module_version": "1.2.0",
          "state": {
            "_model_module": "@jupyter-widgets/base",
            "_model_module_version": "1.2.0",
            "_model_name": "LayoutModel",
            "_view_count": null,
            "_view_module": "@jupyter-widgets/base",
            "_view_module_version": "1.2.0",
            "_view_name": "LayoutView",
            "align_content": null,
            "align_items": null,
            "align_self": null,
            "border": null,
            "bottom": null,
            "display": null,
            "flex": null,
            "flex_flow": null,
            "grid_area": null,
            "grid_auto_columns": null,
            "grid_auto_flow": null,
            "grid_auto_rows": null,
            "grid_column": null,
            "grid_gap": null,
            "grid_row": null,
            "grid_template_areas": null,
            "grid_template_columns": null,
            "grid_template_rows": null,
            "height": null,
            "justify_content": null,
            "justify_items": null,
            "left": null,
            "margin": null,
            "max_height": null,
            "max_width": null,
            "min_height": null,
            "min_width": null,
            "object_fit": null,
            "object_position": null,
            "order": null,
            "overflow": null,
            "overflow_x": null,
            "overflow_y": null,
            "padding": null,
            "right": null,
            "top": null,
            "visibility": null,
            "width": null
          }
        },
        "0aafcbd9e340417fb47c9bb41e8ef0d1": {
          "model_module": "@jupyter-widgets/controls",
          "model_name": "DescriptionStyleModel",
          "model_module_version": "1.5.0",
          "state": {
            "_model_module": "@jupyter-widgets/controls",
            "_model_module_version": "1.5.0",
            "_model_name": "DescriptionStyleModel",
            "_view_count": null,
            "_view_module": "@jupyter-widgets/base",
            "_view_module_version": "1.2.0",
            "_view_name": "StyleView",
            "description_width": ""
          }
        },
        "99ac2f09487d4703892a81ccfcd550c6": {
          "model_module": "@jupyter-widgets/controls",
          "model_name": "HBoxModel",
          "model_module_version": "1.5.0",
          "state": {
            "_dom_classes": [],
            "_model_module": "@jupyter-widgets/controls",
            "_model_module_version": "1.5.0",
            "_model_name": "HBoxModel",
            "_view_count": null,
            "_view_module": "@jupyter-widgets/controls",
            "_view_module_version": "1.5.0",
            "_view_name": "HBoxView",
            "box_style": "",
            "children": [
              "IPY_MODEL_737d31cc945542d4ad42fce68f722fff",
              "IPY_MODEL_acdc84e55b074616877923e905b5d50c",
              "IPY_MODEL_cee9a2fdfe724e0d844aca53f7d98c2a"
            ],
            "layout": "IPY_MODEL_c897951a3a804bc89e02211af677ee40"
          }
        },
        "737d31cc945542d4ad42fce68f722fff": {
          "model_module": "@jupyter-widgets/controls",
          "model_name": "HTMLModel",
          "model_module_version": "1.5.0",
          "state": {
            "_dom_classes": [],
            "_model_module": "@jupyter-widgets/controls",
            "_model_module_version": "1.5.0",
            "_model_name": "HTMLModel",
            "_view_count": null,
            "_view_module": "@jupyter-widgets/controls",
            "_view_module_version": "1.5.0",
            "_view_name": "HTMLView",
            "description": "",
            "description_tooltip": null,
            "layout": "IPY_MODEL_6d83d88ee97a4ef5b1054961c21b97bd",
            "placeholder": "​",
            "style": "IPY_MODEL_6ab8e1da55f445d8bb0da3f35d6bb856",
            "value": "100%"
          }
        },
        "acdc84e55b074616877923e905b5d50c": {
          "model_module": "@jupyter-widgets/controls",
          "model_name": "FloatProgressModel",
          "model_module_version": "1.5.0",
          "state": {
            "_dom_classes": [],
            "_model_module": "@jupyter-widgets/controls",
            "_model_module_version": "1.5.0",
            "_model_name": "FloatProgressModel",
            "_view_count": null,
            "_view_module": "@jupyter-widgets/controls",
            "_view_module_version": "1.5.0",
            "_view_name": "ProgressView",
            "bar_style": "success",
            "description": "",
            "description_tooltip": null,
            "layout": "IPY_MODEL_ef7778b450244e96bd3f042f22779796",
            "max": 3,
            "min": 0,
            "orientation": "horizontal",
            "style": "IPY_MODEL_fec15cbfa48e47139664a325c7c1d750",
            "value": 3
          }
        },
        "cee9a2fdfe724e0d844aca53f7d98c2a": {
          "model_module": "@jupyter-widgets/controls",
          "model_name": "HTMLModel",
          "model_module_version": "1.5.0",
          "state": {
            "_dom_classes": [],
            "_model_module": "@jupyter-widgets/controls",
            "_model_module_version": "1.5.0",
            "_model_name": "HTMLModel",
            "_view_count": null,
            "_view_module": "@jupyter-widgets/controls",
            "_view_module_version": "1.5.0",
            "_view_name": "HTMLView",
            "description": "",
            "description_tooltip": null,
            "layout": "IPY_MODEL_a70dee61fa9549fbb6c86a614f161b3b",
            "placeholder": "​",
            "style": "IPY_MODEL_ec4b6ae7263f4db4a564b16b391d0ae8",
            "value": " 3/3 [00:01&lt;00:00,  3.33it/s]"
          }
        },
        "c897951a3a804bc89e02211af677ee40": {
          "model_module": "@jupyter-widgets/base",
          "model_name": "LayoutModel",
          "model_module_version": "1.2.0",
          "state": {
            "_model_module": "@jupyter-widgets/base",
            "_model_module_version": "1.2.0",
            "_model_name": "LayoutModel",
            "_view_count": null,
            "_view_module": "@jupyter-widgets/base",
            "_view_module_version": "1.2.0",
            "_view_name": "LayoutView",
            "align_content": null,
            "align_items": null,
            "align_self": null,
            "border": null,
            "bottom": null,
            "display": null,
            "flex": null,
            "flex_flow": null,
            "grid_area": null,
            "grid_auto_columns": null,
            "grid_auto_flow": null,
            "grid_auto_rows": null,
            "grid_column": null,
            "grid_gap": null,
            "grid_row": null,
            "grid_template_areas": null,
            "grid_template_columns": null,
            "grid_template_rows": null,
            "height": null,
            "justify_content": null,
            "justify_items": null,
            "left": null,
            "margin": null,
            "max_height": null,
            "max_width": null,
            "min_height": null,
            "min_width": null,
            "object_fit": null,
            "object_position": null,
            "order": null,
            "overflow": null,
            "overflow_x": null,
            "overflow_y": null,
            "padding": null,
            "right": null,
            "top": null,
            "visibility": null,
            "width": null
          }
        },
        "6d83d88ee97a4ef5b1054961c21b97bd": {
          "model_module": "@jupyter-widgets/base",
          "model_name": "LayoutModel",
          "model_module_version": "1.2.0",
          "state": {
            "_model_module": "@jupyter-widgets/base",
            "_model_module_version": "1.2.0",
            "_model_name": "LayoutModel",
            "_view_count": null,
            "_view_module": "@jupyter-widgets/base",
            "_view_module_version": "1.2.0",
            "_view_name": "LayoutView",
            "align_content": null,
            "align_items": null,
            "align_self": null,
            "border": null,
            "bottom": null,
            "display": null,
            "flex": null,
            "flex_flow": null,
            "grid_area": null,
            "grid_auto_columns": null,
            "grid_auto_flow": null,
            "grid_auto_rows": null,
            "grid_column": null,
            "grid_gap": null,
            "grid_row": null,
            "grid_template_areas": null,
            "grid_template_columns": null,
            "grid_template_rows": null,
            "height": null,
            "justify_content": null,
            "justify_items": null,
            "left": null,
            "margin": null,
            "max_height": null,
            "max_width": null,
            "min_height": null,
            "min_width": null,
            "object_fit": null,
            "object_position": null,
            "order": null,
            "overflow": null,
            "overflow_x": null,
            "overflow_y": null,
            "padding": null,
            "right": null,
            "top": null,
            "visibility": null,
            "width": null
          }
        },
        "6ab8e1da55f445d8bb0da3f35d6bb856": {
          "model_module": "@jupyter-widgets/controls",
          "model_name": "DescriptionStyleModel",
          "model_module_version": "1.5.0",
          "state": {
            "_model_module": "@jupyter-widgets/controls",
            "_model_module_version": "1.5.0",
            "_model_name": "DescriptionStyleModel",
            "_view_count": null,
            "_view_module": "@jupyter-widgets/base",
            "_view_module_version": "1.2.0",
            "_view_name": "StyleView",
            "description_width": ""
          }
        },
        "ef7778b450244e96bd3f042f22779796": {
          "model_module": "@jupyter-widgets/base",
          "model_name": "LayoutModel",
          "model_module_version": "1.2.0",
          "state": {
            "_model_module": "@jupyter-widgets/base",
            "_model_module_version": "1.2.0",
            "_model_name": "LayoutModel",
            "_view_count": null,
            "_view_module": "@jupyter-widgets/base",
            "_view_module_version": "1.2.0",
            "_view_name": "LayoutView",
            "align_content": null,
            "align_items": null,
            "align_self": null,
            "border": null,
            "bottom": null,
            "display": null,
            "flex": null,
            "flex_flow": null,
            "grid_area": null,
            "grid_auto_columns": null,
            "grid_auto_flow": null,
            "grid_auto_rows": null,
            "grid_column": null,
            "grid_gap": null,
            "grid_row": null,
            "grid_template_areas": null,
            "grid_template_columns": null,
            "grid_template_rows": null,
            "height": null,
            "justify_content": null,
            "justify_items": null,
            "left": null,
            "margin": null,
            "max_height": null,
            "max_width": null,
            "min_height": null,
            "min_width": null,
            "object_fit": null,
            "object_position": null,
            "order": null,
            "overflow": null,
            "overflow_x": null,
            "overflow_y": null,
            "padding": null,
            "right": null,
            "top": null,
            "visibility": null,
            "width": null
          }
        },
        "fec15cbfa48e47139664a325c7c1d750": {
          "model_module": "@jupyter-widgets/controls",
          "model_name": "ProgressStyleModel",
          "model_module_version": "1.5.0",
          "state": {
            "_model_module": "@jupyter-widgets/controls",
            "_model_module_version": "1.5.0",
            "_model_name": "ProgressStyleModel",
            "_view_count": null,
            "_view_module": "@jupyter-widgets/base",
            "_view_module_version": "1.2.0",
            "_view_name": "StyleView",
            "bar_color": null,
            "description_width": ""
          }
        },
        "a70dee61fa9549fbb6c86a614f161b3b": {
          "model_module": "@jupyter-widgets/base",
          "model_name": "LayoutModel",
          "model_module_version": "1.2.0",
          "state": {
            "_model_module": "@jupyter-widgets/base",
            "_model_module_version": "1.2.0",
            "_model_name": "LayoutModel",
            "_view_count": null,
            "_view_module": "@jupyter-widgets/base",
            "_view_module_version": "1.2.0",
            "_view_name": "LayoutView",
            "align_content": null,
            "align_items": null,
            "align_self": null,
            "border": null,
            "bottom": null,
            "display": null,
            "flex": null,
            "flex_flow": null,
            "grid_area": null,
            "grid_auto_columns": null,
            "grid_auto_flow": null,
            "grid_auto_rows": null,
            "grid_column": null,
            "grid_gap": null,
            "grid_row": null,
            "grid_template_areas": null,
            "grid_template_columns": null,
            "grid_template_rows": null,
            "height": null,
            "justify_content": null,
            "justify_items": null,
            "left": null,
            "margin": null,
            "max_height": null,
            "max_width": null,
            "min_height": null,
            "min_width": null,
            "object_fit": null,
            "object_position": null,
            "order": null,
            "overflow": null,
            "overflow_x": null,
            "overflow_y": null,
            "padding": null,
            "right": null,
            "top": null,
            "visibility": null,
            "width": null
          }
        },
        "ec4b6ae7263f4db4a564b16b391d0ae8": {
          "model_module": "@jupyter-widgets/controls",
          "model_name": "DescriptionStyleModel",
          "model_module_version": "1.5.0",
          "state": {
            "_model_module": "@jupyter-widgets/controls",
            "_model_module_version": "1.5.0",
            "_model_name": "DescriptionStyleModel",
            "_view_count": null,
            "_view_module": "@jupyter-widgets/base",
            "_view_module_version": "1.2.0",
            "_view_name": "StyleView",
            "description_width": ""
          }
        }
      }
    }
  },
  "cells": [
    {
      "cell_type": "markdown",
      "source": [
        "# Nesne Yerelleştirme\n",
        " "
      ],
      "metadata": {
        "id": "3A3iPDXTPkBl"
      }
    },
    {
      "cell_type": "markdown",
      "source": [
        "![Untitled Diagram.drawio.png](data:image/png;base64,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)"
      ],
      "metadata": {
        "id": "qNnW26qlOz1K"
      }
    },
    {
      "cell_type": "code",
      "execution_count": 1,
      "metadata": {
        "id": "-4f9T3PovCkQ",
        "colab": {
          "base_uri": "https://localhost:8080/"
        },
        "outputId": "1c138a28-1cfa-47e1-a2ce-206e242464ce"
      },
      "outputs": [
        {
          "output_type": "stream",
          "name": "stdout",
          "text": [
            "Looking in indexes: https://pypi.org/simple, https://us-python.pkg.dev/colab-wheels/public/simple/\n",
            "Collecting git+https://github.com/albumentations-team/albumentations\n",
            "  Cloning https://github.com/albumentations-team/albumentations to /tmp/pip-req-build-pre0rf0c\n",
            "  Running command git clone --filter=blob:none --quiet https://github.com/albumentations-team/albumentations /tmp/pip-req-build-pre0rf0c\n",
            "  Resolved https://github.com/albumentations-team/albumentations to commit 7e49d472b451c4f25ae74d1a67503c8b3313eaf0\n",
            "  Preparing metadata (setup.py) ... \u001b[?25l\u001b[?25hdone\n",
            "Requirement already satisfied: numpy>=1.11.1 in /usr/local/lib/python3.8/dist-packages (from albumentations==1.3.0) (1.21.6)\n",
            "Requirement already satisfied: scipy>=1.1.0 in /usr/local/lib/python3.8/dist-packages (from albumentations==1.3.0) (1.7.3)\n",
            "Requirement already satisfied: scikit-image>=0.16.1 in /usr/local/lib/python3.8/dist-packages (from albumentations==1.3.0) (0.18.3)\n",
            "Requirement already satisfied: PyYAML in /usr/local/lib/python3.8/dist-packages (from albumentations==1.3.0) (6.0)\n",
            "Requirement already satisfied: qudida>=0.0.4 in /usr/local/lib/python3.8/dist-packages (from albumentations==1.3.0) (0.0.4)\n",
            "Requirement already satisfied: opencv-python>=4.1.1 in /usr/local/lib/python3.8/dist-packages (from albumentations==1.3.0) (4.6.0.66)\n",
            "Requirement already satisfied: typing-extensions in /usr/local/lib/python3.8/dist-packages (from qudida>=0.0.4->albumentations==1.3.0) (4.4.0)\n",
            "Requirement already satisfied: opencv-python-headless>=4.0.1 in /usr/local/lib/python3.8/dist-packages (from qudida>=0.0.4->albumentations==1.3.0) (4.7.0.68)\n",
            "Requirement already satisfied: scikit-learn>=0.19.1 in /usr/local/lib/python3.8/dist-packages (from qudida>=0.0.4->albumentations==1.3.0) (1.0.2)\n",
            "Requirement already satisfied: networkx>=2.0 in /usr/local/lib/python3.8/dist-packages (from scikit-image>=0.16.1->albumentations==1.3.0) (3.0)\n",
            "Requirement already satisfied: matplotlib!=3.0.0,>=2.0.0 in /usr/local/lib/python3.8/dist-packages (from scikit-image>=0.16.1->albumentations==1.3.0) (3.2.2)\n",
            "Requirement already satisfied: tifffile>=2019.7.26 in /usr/local/lib/python3.8/dist-packages (from scikit-image>=0.16.1->albumentations==1.3.0) (2022.10.10)\n",
            "Requirement already satisfied: PyWavelets>=1.1.1 in /usr/local/lib/python3.8/dist-packages (from scikit-image>=0.16.1->albumentations==1.3.0) (1.4.1)\n",
            "Requirement already satisfied: imageio>=2.3.0 in /usr/local/lib/python3.8/dist-packages (from scikit-image>=0.16.1->albumentations==1.3.0) (2.9.0)\n",
            "Requirement already satisfied: pillow!=7.1.0,!=7.1.1,>=4.3.0 in /usr/local/lib/python3.8/dist-packages (from scikit-image>=0.16.1->albumentations==1.3.0) (7.1.2)\n",
            "Requirement already satisfied: cycler>=0.10 in /usr/local/lib/python3.8/dist-packages (from matplotlib!=3.0.0,>=2.0.0->scikit-image>=0.16.1->albumentations==1.3.0) (0.11.0)\n",
            "Requirement already satisfied: kiwisolver>=1.0.1 in /usr/local/lib/python3.8/dist-packages (from matplotlib!=3.0.0,>=2.0.0->scikit-image>=0.16.1->albumentations==1.3.0) (1.4.4)\n",
            "Requirement already satisfied: python-dateutil>=2.1 in /usr/local/lib/python3.8/dist-packages (from matplotlib!=3.0.0,>=2.0.0->scikit-image>=0.16.1->albumentations==1.3.0) (2.8.2)\n",
            "Requirement already satisfied: pyparsing!=2.0.4,!=2.1.2,!=2.1.6,>=2.0.1 in /usr/local/lib/python3.8/dist-packages (from matplotlib!=3.0.0,>=2.0.0->scikit-image>=0.16.1->albumentations==1.3.0) (3.0.9)\n",
            "Requirement already satisfied: joblib>=0.11 in /usr/local/lib/python3.8/dist-packages (from scikit-learn>=0.19.1->qudida>=0.0.4->albumentations==1.3.0) (1.2.0)\n",
            "Requirement already satisfied: threadpoolctl>=2.0.0 in /usr/local/lib/python3.8/dist-packages (from scikit-learn>=0.19.1->qudida>=0.0.4->albumentations==1.3.0) (3.1.0)\n",
            "Requirement already satisfied: six>=1.5 in /usr/local/lib/python3.8/dist-packages (from python-dateutil>=2.1->matplotlib!=3.0.0,>=2.0.0->scikit-image>=0.16.1->albumentations==1.3.0) (1.15.0)\n",
            "Building wheels for collected packages: albumentations\n",
            "  Building wheel for albumentations (setup.py) ... \u001b[?25l\u001b[?25hdone\n",
            "  Created wheel for albumentations: filename=albumentations-1.3.0-py3-none-any.whl size=125521 sha256=d948059228a0d2f681c4f20e4110978ac852d2697b6bea799ea918e683da127b\n",
            "  Stored in directory: /tmp/pip-ephem-wheel-cache-nmjpyjr1/wheels/f3/4a/7f/67b055656bec4d4aaa8963cfc93678f6f2906b2d72054a1268\n",
            "Successfully built albumentations\n",
            "Installing collected packages: albumentations\n",
            "  Attempting uninstall: albumentations\n",
            "    Found existing installation: albumentations 1.2.1\n",
            "    Uninstalling albumentations-1.2.1:\n",
            "      Successfully uninstalled albumentations-1.2.1\n",
            "Successfully installed albumentations-1.3.0\n",
            "Looking in indexes: https://pypi.org/simple, https://us-python.pkg.dev/colab-wheels/public/simple/\n",
            "Collecting timm\n",
            "  Downloading timm-0.6.12-py3-none-any.whl (549 kB)\n",
            "\u001b[2K     \u001b[90m━━━━━━━━━━━━━━━━━━━━━━━━━━━━━━━━━━━━━━\u001b[0m \u001b[32m549.1/549.1 KB\u001b[0m \u001b[31m10.5 MB/s\u001b[0m eta \u001b[36m0:00:00\u001b[0m\n",
            "\u001b[?25hRequirement already satisfied: pyyaml in /usr/local/lib/python3.8/dist-packages (from timm) (6.0)\n",
            "Requirement already satisfied: torchvision in /usr/local/lib/python3.8/dist-packages (from timm) (0.14.1+cu116)\n",
            "Requirement already satisfied: torch>=1.7 in /usr/local/lib/python3.8/dist-packages (from timm) (1.13.1+cu116)\n",
            "Collecting huggingface-hub\n",
            "  Downloading huggingface_hub-0.12.0-py3-none-any.whl (190 kB)\n",
            "\u001b[2K     \u001b[90m━━━━━━━━━━━━━━━━━━━━━━━━━━━━━━━━━━━━━━\u001b[0m \u001b[32m190.3/190.3 KB\u001b[0m \u001b[31m17.7 MB/s\u001b[0m eta \u001b[36m0:00:00\u001b[0m\n",
            "\u001b[?25hRequirement already satisfied: typing-extensions in /usr/local/lib/python3.8/dist-packages (from torch>=1.7->timm) (4.4.0)\n",
            "Requirement already satisfied: tqdm>=4.42.1 in /usr/local/lib/python3.8/dist-packages (from huggingface-hub->timm) (4.64.1)\n",
            "Requirement already satisfied: requests in /usr/local/lib/python3.8/dist-packages (from huggingface-hub->timm) (2.25.1)\n",
            "Requirement already satisfied: filelock in /usr/local/lib/python3.8/dist-packages (from huggingface-hub->timm) (3.9.0)\n",
            "Requirement already satisfied: packaging>=20.9 in /usr/local/lib/python3.8/dist-packages (from huggingface-hub->timm) (21.3)\n",
            "Requirement already satisfied: pillow!=8.3.*,>=5.3.0 in /usr/local/lib/python3.8/dist-packages (from torchvision->timm) (7.1.2)\n",
            "Requirement already satisfied: numpy in /usr/local/lib/python3.8/dist-packages (from torchvision->timm) (1.21.6)\n",
            "Requirement already satisfied: pyparsing!=3.0.5,>=2.0.2 in /usr/local/lib/python3.8/dist-packages (from packaging>=20.9->huggingface-hub->timm) (3.0.9)\n",
            "Requirement already satisfied: certifi>=2017.4.17 in /usr/local/lib/python3.8/dist-packages (from requests->huggingface-hub->timm) (2022.12.7)\n",
            "Requirement already satisfied: idna<3,>=2.5 in /usr/local/lib/python3.8/dist-packages (from requests->huggingface-hub->timm) (2.10)\n",
            "Requirement already satisfied: chardet<5,>=3.0.2 in /usr/local/lib/python3.8/dist-packages (from requests->huggingface-hub->timm) (4.0.0)\n",
            "Requirement already satisfied: urllib3<1.27,>=1.21.1 in /usr/local/lib/python3.8/dist-packages (from requests->huggingface-hub->timm) (1.24.3)\n",
            "Installing collected packages: huggingface-hub, timm\n",
            "Successfully installed huggingface-hub-0.12.0 timm-0.6.12\n",
            "Looking in indexes: https://pypi.org/simple, https://us-python.pkg.dev/colab-wheels/public/simple/\n",
            "Requirement already satisfied: opencv-contrib-python in /usr/local/lib/python3.8/dist-packages (4.6.0.66)\n",
            "Collecting opencv-contrib-python\n",
            "  Downloading opencv_contrib_python-4.7.0.68-cp37-abi3-manylinux_2_17_x86_64.manylinux2014_x86_64.whl (67.9 MB)\n",
            "\u001b[2K     \u001b[90m━━━━━━━━━━━━━━━━━━━━━━━━━━━━━━━━━━━━━━━━\u001b[0m \u001b[32m67.9/67.9 MB\u001b[0m \u001b[31m10.7 MB/s\u001b[0m eta \u001b[36m0:00:00\u001b[0m\n",
            "\u001b[?25hRequirement already satisfied: numpy>=1.17.0 in /usr/local/lib/python3.8/dist-packages (from opencv-contrib-python) (1.21.6)\n",
            "Installing collected packages: opencv-contrib-python\n",
            "  Attempting uninstall: opencv-contrib-python\n",
            "    Found existing installation: opencv-contrib-python 4.6.0.66\n",
            "    Uninstalling opencv-contrib-python-4.6.0.66:\n",
            "      Successfully uninstalled opencv-contrib-python-4.6.0.66\n",
            "Successfully installed opencv-contrib-python-4.7.0.68\n"
          ]
        }
      ],
      "source": [
        "# install libraries/packages/modules \n",
        "\n",
        "!pip install -U git+https://github.com/albumentations-team/albumentations\n",
        "!pip install timm\n",
        "!pip install --upgrade opencv-contrib-python"
      ]
    },
    {
      "cell_type": "code",
      "source": [
        "# Download Dataset\n",
        "\n",
        "!git clone https://github.com/parth1620/object-localization-dataset.git"
      ],
      "metadata": {
        "id": "E96Rcm_F1jKl",
        "colab": {
          "base_uri": "https://localhost:8080/"
        },
        "outputId": "26e23a36-4af5-409f-ff1d-c9646af9d2bc"
      },
      "execution_count": 2,
      "outputs": [
        {
          "output_type": "stream",
          "name": "stdout",
          "text": [
            "Cloning into 'object-localization-dataset'...\n",
            "remote: Enumerating objects: 203, done.\u001b[K\n",
            "remote: Counting objects: 100% (203/203), done.\u001b[K\n",
            "remote: Compressing objects: 100% (203/203), done.\u001b[K\n",
            "remote: Total 203 (delta 3), reused 195 (delta 0), pack-reused 0\u001b[K\n",
            "Receiving objects: 100% (203/203), 2.73 MiB | 14.43 MiB/s, done.\n",
            "Resolving deltas: 100% (3/3), done.\n"
          ]
        }
      ]
    },
    {
      "cell_type": "code",
      "source": [
        "import pandas as pd \n",
        "import numpy as np \n",
        "import cv2\n",
        "import matplotlib.pyplot as plt\n",
        "import torch\n",
        "from tqdm.notebook import tqdm\n",
        "\n",
        "from sklearn.model_selection import train_test_split\n",
        "from sklearn.preprocessing import LabelEncoder"
      ],
      "metadata": {
        "id": "-D9Cu5Ki1sjx"
      },
      "execution_count": 3,
      "outputs": []
    },
    {
      "cell_type": "code",
      "source": [
        "import sys\n",
        "sys.path.append('/content/object-localization-dataset')"
      ],
      "metadata": {
        "id": "huIQiSlVKmK6"
      },
      "execution_count": 4,
      "outputs": []
    },
    {
      "cell_type": "markdown",
      "source": [
        "# Konfigürasyon"
      ],
      "metadata": {
        "id": "8oM1P_LN2WzF"
      }
    },
    {
      "cell_type": "code",
      "source": [
        "CSV_FILE = '/content/object-localization-dataset/train.csv'\n",
        "DATA_DIR = '/content/object-localization-dataset/'\n",
        "\n",
        "DEVICE = 'cuda'\n",
        "\n",
        "BATCH_SIZE = 16\n",
        "\n",
        "IMG_SIZE = 140\n",
        "\n",
        "LR = 0.001\n",
        "EPOCHS = 4\n",
        "MODEL_NAME = 'efficientnet_b0'\n",
        "\n",
        "NUM_COR = 4"
      ],
      "metadata": {
        "id": "l-Wz3fOX1yP6"
      },
      "execution_count": 44,
      "outputs": []
    },
    {
      "cell_type": "code",
      "source": [
        "df = pd.read_csv(CSV_FILE)\n",
        "df.head()"
      ],
      "metadata": {
        "id": "p7xh_WG929Pf",
        "colab": {
          "base_uri": "https://localhost:8080/",
          "height": 206
        },
        "outputId": "1e55492b-3578-46ca-b417-1dd84395d413"
      },
      "execution_count": 6,
      "outputs": [
        {
          "output_type": "execute_result",
          "data": {
            "text/plain": [
              "                       img_path  xmin  ymin  xmax  ymax  width  height  \\\n",
              "0  train_images/mushroom_51.jpg    24    23   202   183    227     227   \n",
              "1  train_images/eggplant_37.jpg    34    34    88   201    227     227   \n",
              "2  train_images/mushroom_20.jpg    49    86   183   185    227     227   \n",
              "3  train_images/eggplant_51.jpg    51    59   191   164    227     227   \n",
              "4  train_images/eggplant_26.jpg    40    70   179   168    227     227   \n",
              "\n",
              "      label  \n",
              "0  mushroom  \n",
              "1  eggplant  \n",
              "2  mushroom  \n",
              "3  eggplant  \n",
              "4  eggplant  "
            ],
            "text/html": [
              "\n",
              "  <div id=\"df-64b198f6-cc97-42b2-a07a-b7a7e4597e08\">\n",
              "    <div class=\"colab-df-container\">\n",
              "      <div>\n",
              "<style scoped>\n",
              "    .dataframe tbody tr th:only-of-type {\n",
              "        vertical-align: middle;\n",
              "    }\n",
              "\n",
              "    .dataframe tbody tr th {\n",
              "        vertical-align: top;\n",
              "    }\n",
              "\n",
              "    .dataframe thead th {\n",
              "        text-align: right;\n",
              "    }\n",
              "</style>\n",
              "<table border=\"1\" class=\"dataframe\">\n",
              "  <thead>\n",
              "    <tr style=\"text-align: right;\">\n",
              "      <th></th>\n",
              "      <th>img_path</th>\n",
              "      <th>xmin</th>\n",
              "      <th>ymin</th>\n",
              "      <th>xmax</th>\n",
              "      <th>ymax</th>\n",
              "      <th>width</th>\n",
              "      <th>height</th>\n",
              "      <th>label</th>\n",
              "    </tr>\n",
              "  </thead>\n",
              "  <tbody>\n",
              "    <tr>\n",
              "      <th>0</th>\n",
              "      <td>train_images/mushroom_51.jpg</td>\n",
              "      <td>24</td>\n",
              "      <td>23</td>\n",
              "      <td>202</td>\n",
              "      <td>183</td>\n",
              "      <td>227</td>\n",
              "      <td>227</td>\n",
              "      <td>mushroom</td>\n",
              "    </tr>\n",
              "    <tr>\n",
              "      <th>1</th>\n",
              "      <td>train_images/eggplant_37.jpg</td>\n",
              "      <td>34</td>\n",
              "      <td>34</td>\n",
              "      <td>88</td>\n",
              "      <td>201</td>\n",
              "      <td>227</td>\n",
              "      <td>227</td>\n",
              "      <td>eggplant</td>\n",
              "    </tr>\n",
              "    <tr>\n",
              "      <th>2</th>\n",
              "      <td>train_images/mushroom_20.jpg</td>\n",
              "      <td>49</td>\n",
              "      <td>86</td>\n",
              "      <td>183</td>\n",
              "      <td>185</td>\n",
              "      <td>227</td>\n",
              "      <td>227</td>\n",
              "      <td>mushroom</td>\n",
              "    </tr>\n",
              "    <tr>\n",
              "      <th>3</th>\n",
              "      <td>train_images/eggplant_51.jpg</td>\n",
              "      <td>51</td>\n",
              "      <td>59</td>\n",
              "      <td>191</td>\n",
              "      <td>164</td>\n",
              "      <td>227</td>\n",
              "      <td>227</td>\n",
              "      <td>eggplant</td>\n",
              "    </tr>\n",
              "    <tr>\n",
              "      <th>4</th>\n",
              "      <td>train_images/eggplant_26.jpg</td>\n",
              "      <td>40</td>\n",
              "      <td>70</td>\n",
              "      <td>179</td>\n",
              "      <td>168</td>\n",
              "      <td>227</td>\n",
              "      <td>227</td>\n",
              "      <td>eggplant</td>\n",
              "    </tr>\n",
              "  </tbody>\n",
              "</table>\n",
              "</div>\n",
              "      <button class=\"colab-df-convert\" onclick=\"convertToInteractive('df-64b198f6-cc97-42b2-a07a-b7a7e4597e08')\"\n",
              "              title=\"Convert this dataframe to an interactive table.\"\n",
              "              style=\"display:none;\">\n",
              "        \n",
              "  <svg xmlns=\"http://www.w3.org/2000/svg\" height=\"24px\"viewBox=\"0 0 24 24\"\n",
              "       width=\"24px\">\n",
              "    <path d=\"M0 0h24v24H0V0z\" fill=\"none\"/>\n",
              "    <path d=\"M18.56 5.44l.94 2.06.94-2.06 2.06-.94-2.06-.94-.94-2.06-.94 2.06-2.06.94zm-11 1L8.5 8.5l.94-2.06 2.06-.94-2.06-.94L8.5 2.5l-.94 2.06-2.06.94zm10 10l.94 2.06.94-2.06 2.06-.94-2.06-.94-.94-2.06-.94 2.06-2.06.94z\"/><path d=\"M17.41 7.96l-1.37-1.37c-.4-.4-.92-.59-1.43-.59-.52 0-1.04.2-1.43.59L10.3 9.45l-7.72 7.72c-.78.78-.78 2.05 0 2.83L4 21.41c.39.39.9.59 1.41.59.51 0 1.02-.2 1.41-.59l7.78-7.78 2.81-2.81c.8-.78.8-2.07 0-2.86zM5.41 20L4 18.59l7.72-7.72 1.47 1.35L5.41 20z\"/>\n",
              "  </svg>\n",
              "      </button>\n",
              "      \n",
              "  <style>\n",
              "    .colab-df-container {\n",
              "      display:flex;\n",
              "      flex-wrap:wrap;\n",
              "      gap: 12px;\n",
              "    }\n",
              "\n",
              "    .colab-df-convert {\n",
              "      background-color: #E8F0FE;\n",
              "      border: none;\n",
              "      border-radius: 50%;\n",
              "      cursor: pointer;\n",
              "      display: none;\n",
              "      fill: #1967D2;\n",
              "      height: 32px;\n",
              "      padding: 0 0 0 0;\n",
              "      width: 32px;\n",
              "    }\n",
              "\n",
              "    .colab-df-convert:hover {\n",
              "      background-color: #E2EBFA;\n",
              "      box-shadow: 0px 1px 2px rgba(60, 64, 67, 0.3), 0px 1px 3px 1px rgba(60, 64, 67, 0.15);\n",
              "      fill: #174EA6;\n",
              "    }\n",
              "\n",
              "    [theme=dark] .colab-df-convert {\n",
              "      background-color: #3B4455;\n",
              "      fill: #D2E3FC;\n",
              "    }\n",
              "\n",
              "    [theme=dark] .colab-df-convert:hover {\n",
              "      background-color: #434B5C;\n",
              "      box-shadow: 0px 1px 3px 1px rgba(0, 0, 0, 0.15);\n",
              "      filter: drop-shadow(0px 1px 2px rgba(0, 0, 0, 0.3));\n",
              "      fill: #FFFFFF;\n",
              "    }\n",
              "  </style>\n",
              "\n",
              "      <script>\n",
              "        const buttonEl =\n",
              "          document.querySelector('#df-64b198f6-cc97-42b2-a07a-b7a7e4597e08 button.colab-df-convert');\n",
              "        buttonEl.style.display =\n",
              "          google.colab.kernel.accessAllowed ? 'block' : 'none';\n",
              "\n",
              "        async function convertToInteractive(key) {\n",
              "          const element = document.querySelector('#df-64b198f6-cc97-42b2-a07a-b7a7e4597e08');\n",
              "          const dataTable =\n",
              "            await google.colab.kernel.invokeFunction('convertToInteractive',\n",
              "                                                     [key], {});\n",
              "          if (!dataTable) return;\n",
              "\n",
              "          const docLinkHtml = 'Like what you see? Visit the ' +\n",
              "            '<a target=\"_blank\" href=https://colab.research.google.com/notebooks/data_table.ipynb>data table notebook</a>'\n",
              "            + ' to learn more about interactive tables.';\n",
              "          element.innerHTML = '';\n",
              "          dataTable['output_type'] = 'display_data';\n",
              "          await google.colab.output.renderOutput(dataTable, element);\n",
              "          const docLink = document.createElement('div');\n",
              "          docLink.innerHTML = docLinkHtml;\n",
              "          element.appendChild(docLink);\n",
              "        }\n",
              "      </script>\n",
              "    </div>\n",
              "  </div>\n",
              "  "
            ]
          },
          "metadata": {},
          "execution_count": 6
        }
      ]
    },
    {
      "cell_type": "markdown",
      "source": [
        "# dataseti anlamak.."
      ],
      "metadata": {
        "id": "SGmyED6-3vs-"
      }
    },
    {
      "cell_type": "code",
      "source": [
        "row = df.iloc[184]\n",
        "img = cv2.imread(DATA_DIR + row.img_path)\n",
        "img = cv2.cvtColor(img,cv2.COLOR_BGR2RGB)\n",
        "pt1 = (row.xmin, row.ymin)\n",
        "pt2 = (row.xmax, row.ymax)\n",
        "bnd_box_img = cv2.rectangle(img, pt1, pt2, (255, 0, 0), 2)\n",
        "plt.imshow(bnd_box_img)"
      ],
      "metadata": {
        "id": "_Dq7GKkk3ocN",
        "colab": {
          "base_uri": "https://localhost:8080/",
          "height": 286
        },
        "outputId": "f314532c-26aa-4660-b1b7-9f15d7f57925"
      },
      "execution_count": 15,
      "outputs": [
        {
          "output_type": "execute_result",
          "data": {
            "text/plain": [
              "<matplotlib.image.AxesImage at 0x7fe25cf89f70>"
            ]
          },
          "metadata": {},
          "execution_count": 15
        },
        {
          "output_type": "display_data",
          "data": {
            "text/plain": [
              "<Figure size 432x288 with 1 Axes>"
            ],
            "image/png": "[encoded data removed]"
          },
          "metadata": {
            "needs_background": "light"
          }
        }
      ]
    },
    {
      "cell_type": "code",
      "source": [
        "train_df, valid_df = train_test_split(df, test_size=0.20, random_state = 42)"
      ],
      "metadata": {
        "id": "j9IVE-2_34ab"
      },
      "execution_count": 17,
      "outputs": []
    },
    {
      "cell_type": "markdown",
      "source": [
        "# Augmentations"
      ],
      "metadata": {
        "id": "NuHvzBs13_jt"
      }
    },
    {
      "cell_type": "code",
      "source": [
        "import albumentations as A"
      ],
      "metadata": {
        "id": "Fus-CGSB4H3I"
      },
      "execution_count": 18,
      "outputs": []
    },
    {
      "cell_type": "code",
      "source": [
        "train_augs = A.Compose([\n",
        "    A.Resize(IMG_SIZE, IMG_SIZE),\n",
        "    A.HorizontalFlip(p=0.5),\n",
        "    A.VerticalFlip(p=0.5),\n",
        "    A.Rotate()\n",
        "], bbox_params=A.BboxParams(format='pascal_voc', label_fields = ['class_labels']))\n",
        "\n",
        "valid_augs = A.Compose([\n",
        "    A.Resize(IMG_SIZE, IMG_SIZE),\n",
        "], bbox_params=A.BboxParams(format='pascal_voc', label_fields = ['class_labels']))"
      ],
      "metadata": {
        "id": "8EeJAGT83-q1"
      },
      "execution_count": 20,
      "outputs": []
    },
    {
      "cell_type": "markdown",
      "source": [
        "# Özel Veri Kümesi Oluşturma"
      ],
      "metadata": {
        "id": "3GcEm3hr4KZ6"
      }
    },
    {
      "cell_type": "code",
      "source": [
        "class ObjLocDataset(torch.utils.data.Dataset):\n",
        "  def __init__(self, df, augmentations = None):\n",
        "    self.df = df\n",
        "    self.augmentations = augmentations\n",
        "\n",
        "  def __len__(self):\n",
        "    return len(self.df)\n",
        "\n",
        "  def __getitem__(self, idx):\n",
        "\n",
        "    row = self.df.iloc[idx]\n",
        "\n",
        "    xmin = row.xmin\n",
        "    ymin = row.ymin\n",
        "    xmax = row.xmax\n",
        "    ymax = row.ymax\n",
        "\n",
        "    bbox = [[xmin,ymin,xmax,ymax]]\n",
        "\n",
        "    img_path = DATA_DIR + row.img_path\n",
        "    img = cv2.imread(img_path)\n",
        "    img = cv2.cvtColor(img, cv2.COLOR_BGR2RGB)\n",
        "\n",
        "    if self.augmentations:\n",
        "      data = self.augmentations(image = img, bboxes = bbox, class_labels = [None])\n",
        "      img = data['image']\n",
        "      bbox = data['bboxes'][0]\n",
        "\n",
        "\n",
        "    img = torch.from_numpy(img).permute(2,0,1)/255.0\n",
        "    bbox = torch.Tensor(bbox)\n",
        "\n",
        "    return img,bbox\n"
      ],
      "metadata": {
        "id": "w-APc4_p4FiU"
      },
      "execution_count": 21,
      "outputs": []
    },
    {
      "cell_type": "code",
      "source": [
        "trainset = ObjLocDataset(train_df,train_augs)\n",
        "validset = ObjLocDataset(valid_df, valid_augs)"
      ],
      "metadata": {
        "id": "Z3wIJmZ34SU8"
      },
      "execution_count": 22,
      "outputs": []
    },
    {
      "cell_type": "code",
      "source": [
        "print(f'Toplam Örnek Sayısı(trainset): {len(trainset)}')\n",
        "print(f'Toplam Örnek Sayısı(validset): {len(validset)}')"
      ],
      "metadata": {
        "id": "MiuNQ1845M0a",
        "colab": {
          "base_uri": "https://localhost:8080/"
        },
        "outputId": "c0ddc970-5237-4bd2-8b7d-6ff42fb83df5"
      },
      "execution_count": 23,
      "outputs": [
        {
          "output_type": "stream",
          "name": "stdout",
          "text": [
            "Toplam Örnek Sayısı(trainset): 148\n",
            "Toplam Örnek Sayısı(validset): 38\n"
          ]
        }
      ]
    },
    {
      "cell_type": "code",
      "source": [
        "img, bbox = trainset[100]\n",
        "\n",
        "xmin, ymin, xmax, ymax = bbox\n",
        "\n",
        "pt1 = (int(xmin), int(ymin))\n",
        "pt2 = (int(xmax), int(ymax))\n",
        "\n",
        "bnd_img = cv2.rectangle(img.permute(1, 2, 0).numpy(),pt1, pt2,(255,0,0),2)\n",
        "plt.imshow(bnd_img)"
      ],
      "metadata": {
        "id": "lI0s9VPA4dye",
        "colab": {
          "base_uri": "https://localhost:8080/",
          "height": 304
        },
        "outputId": "5526e4bb-b785-481d-b93d-24c98144f6b4"
      },
      "execution_count": 26,
      "outputs": [
        {
          "output_type": "stream",
          "name": "stderr",
          "text": [
            "WARNING:matplotlib.image:Clipping input data to the valid range for imshow with RGB data ([0..1] for floats or [0..255] for integers).\n"
          ]
        },
        {
          "output_type": "execute_result",
          "data": {
            "text/plain": [
              "<matplotlib.image.AxesImage at 0x7fe252c179a0>"
            ]
          },
          "metadata": {},
          "execution_count": 26
        },
        {
          "output_type": "display_data",
          "data": {
            "text/plain": [
              "<Figure size 432x288 with 1 Axes>"
            ],
            "image/png": "[encoded data removed]"
          },
          "metadata": {
            "needs_background": "light"
          }
        }
      ]
    },
    {
      "cell_type": "markdown",
      "source": [
        "# Veri kümesini toplu işlere yükleme"
      ],
      "metadata": {
        "id": "9GeiS58d6C8x"
      }
    },
    {
      "cell_type": "code",
      "source": [
        "trainloader = torch.utils.data.DataLoader(trainset, batch_size = BATCH_SIZE, shuffle=True)\n",
        "validloader = torch.utils.data.DataLoader(validset, batch_size = BATCH_SIZE, shuffle=False)"
      ],
      "metadata": {
        "id": "1AALOj5h4jp-"
      },
      "execution_count": 28,
      "outputs": []
    },
    {
      "cell_type": "code",
      "source": [
        "print(\" trainloader : {}\".format(len(trainloader)))\n",
        "print(\" validloader : {}\".format(len(validloader)))"
      ],
      "metadata": {
        "id": "MmTSFxDf5doO",
        "colab": {
          "base_uri": "https://localhost:8080/"
        },
        "outputId": "c84cdd8e-7934-4389-deab-811b60fe50f9"
      },
      "execution_count": 29,
      "outputs": [
        {
          "output_type": "stream",
          "name": "stdout",
          "text": [
            " trainloader : 10\n",
            " validloader : 3\n"
          ]
        }
      ]
    },
    {
      "cell_type": "code",
      "source": [
        "for images, bboxes in trainloader:\n",
        "  break;\n",
        "print(\"Shape of one batch images : {}\".format(images.shape))\n",
        "print(\"Shape of one batch bboxes : {}\".format(bboxes.shape))"
      ],
      "metadata": {
        "id": "X8QEUCAM5gMx",
        "colab": {
          "base_uri": "https://localhost:8080/"
        },
        "outputId": "77a23f71-7c7e-461b-d93c-249cd89d3858"
      },
      "execution_count": 31,
      "outputs": [
        {
          "output_type": "stream",
          "name": "stdout",
          "text": [
            "Shape of one batch images : torch.Size([16, 3, 140, 140])\n",
            "Shape of one batch bboxes : torch.Size([16, 4])\n"
          ]
        }
      ]
    },
    {
      "cell_type": "markdown",
      "source": [
        "# Modelimizi Oluşturalım"
      ],
      "metadata": {
        "id": "gw47Me0s6NXo"
      }
    },
    {
      "cell_type": "code",
      "source": [
        "from torch import nn \n",
        "import timm"
      ],
      "metadata": {
        "id": "sHS37krT6Uop"
      },
      "execution_count": 32,
      "outputs": []
    },
    {
      "cell_type": "code",
      "source": [
        "class ObjLocModel(nn.Module):\n",
        "  def __init__(self):\n",
        "    super(ObjLocModel, self).__init__()\n",
        "\n",
        "    self.backbone = timm.create_model(MODEL_NAME, pretrained = True, num_classes = 4)\n",
        "\n",
        "  def forward(self,images, gt_bboxes = None):\n",
        "\n",
        "    bboxes = self.backbone(images)\n",
        "\n",
        "    if gt_bboxes != None:\n",
        "      loss = nn.MSELoss()(bboxes,gt_bboxes)\n",
        "      return bboxes, loss\n",
        "\n",
        "    return bboxes\n"
      ],
      "metadata": {
        "id": "QXZW4mdk6Mpw"
      },
      "execution_count": 34,
      "outputs": []
    },
    {
      "cell_type": "code",
      "source": [
        "model = ObjLocModel()\n",
        "#model.to(DEVICE)"
      ],
      "metadata": {
        "id": "1GM8RDN05tca"
      },
      "execution_count": 38,
      "outputs": []
    },
    {
      "cell_type": "code",
      "source": [
        "random_img = torch.rand(1,3,140,140)\n",
        "model(random_img).shape"
      ],
      "metadata": {
        "colab": {
          "base_uri": "https://localhost:8080/"
        },
        "id": "tQGi_HPIzjCo",
        "outputId": "015c3262-66a2-4d50-e2d3-6553b08e5c24"
      },
      "execution_count": 39,
      "outputs": [
        {
          "output_type": "execute_result",
          "data": {
            "text/plain": [
              "torch.Size([1, 4])"
            ]
          },
          "metadata": {},
          "execution_count": 39
        }
      ]
    },
    {
      "cell_type": "markdown",
      "source": [
        "# Train ve Eval Function Oluşturma"
      ],
      "metadata": {
        "id": "WKf-x-o06juW"
      }
    },
    {
      "cell_type": "code",
      "source": [
        "def train_fn(model, dataloader, optimizer):\n",
        "  total_loss = 0.0\n",
        "  model.train()\n",
        "\n",
        "  for data in tqdm(dataloader):\n",
        "    images, gt_bboxes = data\n",
        "    images, gt_bboxes = images, gt_bboxes\n",
        "\n",
        "    bboxes, loss = model(images, gt_bboxes)\n",
        "\n",
        "    optimizer.zero_grad()\n",
        "    loss.backward()\n",
        "    optimizer.step()\n",
        "\n",
        "    total_loss += loss.item()\n",
        "\n",
        "  return total_loss / len(dataloader)\n"
      ],
      "metadata": {
        "id": "W31-rSfG6jUs"
      },
      "execution_count": 40,
      "outputs": []
    },
    {
      "cell_type": "code",
      "source": [
        "def eval_fn(model, dataloader):\n",
        "  total_loss = 0.0\n",
        "  model.eval()\n",
        "\n",
        "  with torch.no_grad():\n",
        "    for data in tqdm(dataloader):\n",
        "      images, gt_bboxes = data\n",
        "      images, gt_bboxes = images, gt_bboxes\n",
        "\n",
        "      bboxes, loss = model(images, gt_bboxes)\n",
        "\n",
        "      total_loss += loss.item()\n",
        "\n",
        "    return total_loss / len(dataloader)\n"
      ],
      "metadata": {
        "id": "hnBMNmgk6gsq"
      },
      "execution_count": 42,
      "outputs": []
    },
    {
      "cell_type": "markdown",
      "source": [
        "# Eğitim"
      ],
      "metadata": {
        "id": "LjiHeyg1Oh7k"
      }
    },
    {
      "cell_type": "code",
      "source": [
        "optimizer = torch.optim.Adam(model.parameters(), lr = LR)"
      ],
      "metadata": {
        "id": "FzoosXHs7NtU"
      },
      "execution_count": 43,
      "outputs": []
    },
    {
      "cell_type": "code",
      "source": [
        "best_valid_loss = np.Inf\n",
        "for i in range(EPOCHS):\n",
        "  train_loss = train_fn(model, trainloader, optimizer)\n",
        "  valid_loss = eval_fn(model, validloader)\n",
        "\n",
        "  if valid_loss < best_valid_loss:\n",
        "    torch.save(model.state_dict(), 'best_model.pt')\n",
        "    print(\"model ağırlıklarını kaydettim.\")\n",
        "    best_valid_loss = valid_loss\n",
        "\n",
        "  print(f\"epoch : {i+1} train_loss : {train_loss} valid_loss : {valid_loss}\")"
      ],
      "metadata": {
        "id": "iW_huEVT7kP3",
        "colab": {
          "base_uri": "https://localhost:8080/",
          "height": 412,
          "referenced_widgets": [
            "ab2b56e8f1ce4f6799e311fb3a8363aa",
            "53c1a97d09954c3195e545fc2e402978",
            "d50a92fe63d04cba815d2a51a257c19d",
            "1840c7845c8d4f8384f7b0f95d7e5ff9",
            "94d02d90b16347b0b7a94e39fc04fbae",
            "a97749b78618457e82ca0fe5b7789c8f",
            "30327ace1c1645688f531d21dc7d3db1",
            "e17b9ec7378d4a48bd0167c517ad4336",
            "e2ef71fa95724efca21d6df1e2af4146",
            "324214b5217a4167ad683747b5f3c1c6",
            "225de11546554a6abc819143a47db239",
            "69412923dc0949b896c82ecad0e0307b",
            "c665feb99ab04f6c9ba07e508357ed77",
            "7b954b171ff34d29aa35440bb4370052",
            "c8e0c4f668884a30ad69c4dffc1e771e",
            "ccdce28da7ed401ca6643f31a1fd46e3",
            "341fbabcad1a4fb390dbcb14584eea26",
            "bdce986a1ffd4e01a17bcd0eef64083a",
            "bc74b036238b46bb85fc8f2a90e8edea",
            "c39536a23a65426498e4b3bd6acc0147",
            "eda47896b6f647c3be31c22620726f6d",
            "a022d35e1b844262941f15b9df6ce974",
            "5d296fc248a44260b228c64d52db63d0",
            "a59c03b1339a46e98c8bdb986141adb1",
            "0c2e963ca4484cf6bcbb6dc578d8e409",
            "7cbd253a8e6a459897be8b8d8e4829ba",
            "382ea890a60644c186b5a6ef200d066a",
            "9efe78970aaf46d3830cefdc0295799c",
            "3e48cdc41be54f8fa735f6f88a87b4e3",
            "5dc1d342a7f74cdcbd20f4a474cc6bd7",
            "74f95e730bfb48a89df8218d5a10f774",
            "139ad0b1132b45e3bca26994c5664a57",
            "ed31367b1f20436097518d93deb604dd",
            "abb9a1bed98040e2a2e47b9fad574a48",
            "0ed6aefd019b46769b9e2935b9e95d73",
            "d478fb8ccdca4d1680c93c2231a35ff3",
            "4bfe51e4fa30436ab7f445dc53434a06",
            "8d55580946f34d5782ffb200285dcc80",
            "d0e5d204d47940be920f867a52d7aaa7",
            "431fa766aeb6451ab12471bb06cd2adc",
            "6e84426c20a84240a502b702ccb9023f",
            "4dd5709c729242e2ab9952ddcf6e47ab",
            "09d903785c4c4026ae986f68aaef48ad",
            "c049042393564d8aa7a4a9639406c02f",
            "5e677c94afc14d6297536ac33aafc24d",
            "f1f578cdfffd4518b82a1770f1daa1d3",
            "781afbba98654d6aafb719411e16c313",
            "56587d9ceb7d48a6a874e5094d59ea7d",
            "25d82708376240ada3b3cd9a293377ae",
            "9177e45ea03e43aaa253ad3b414ec84d",
            "fb2c71c0768e4aa8b67ad3ba00ee1f4b",
            "266549310120444a9e94e3ba482f9fc2",
            "0d2d1a8ba1904d839481d3ecbac88132",
            "1bf06e0220604630b4cb6dbab5e7ddd6",
            "53b192eb33254fe7a81f1cbc2841433f",
            "0b2e6e11770d4a56868741b54c261268",
            "189be6ee221f48259c1bcb76e0dfb6ab",
            "f224579300b248d995e9fa160604e39b",
            "bb7efc7512ee47888b8ca9a4dc442d29",
            "88d1a0435b0847b981af47e1a31e5933",
            "8a043bdbd0f24fea9960df6b2f4e8675",
            "2447982cd0c94f7784ee87ba005b33d1",
            "58d5cb4e3504412b89870fd3891a3037",
            "186945fc9a3047fcaf41e4348e6015df",
            "35482943c061407fa67be9d41c59cf54",
            "05f0c94443ec43b7a64cd6b95f0cb1a5",
            "8081f05aa9354b7c9fd8d59e77e665d1",
            "10e69f8b46dd4227997b85dda2f986d5",
            "87bb8e3994084eb8a5017f6eaeb6b2ec",
            "8173cae33dcc43809cd9debf47931a83",
            "e354ba0a80a74356be8751c53c0b32f3",
            "d6c3b1e5dac048c9a9404506967839cb",
            "0097ac5786914c3bbd929bc614097852",
            "b1374b9b9a1148b99a42d93dd748d5ea",
            "5d100398990f4007a8e63227dab328de",
            "5f4d17aca540463684126c78f29cd727",
            "0aafcbd9e340417fb47c9bb41e8ef0d1",
            "99ac2f09487d4703892a81ccfcd550c6",
            "737d31cc945542d4ad42fce68f722fff",
            "acdc84e55b074616877923e905b5d50c",
            "cee9a2fdfe724e0d844aca53f7d98c2a",
            "c897951a3a804bc89e02211af677ee40",
            "6d83d88ee97a4ef5b1054961c21b97bd",
            "6ab8e1da55f445d8bb0da3f35d6bb856",
            "ef7778b450244e96bd3f042f22779796",
            "fec15cbfa48e47139664a325c7c1d750",
            "a70dee61fa9549fbb6c86a614f161b3b",
            "ec4b6ae7263f4db4a564b16b391d0ae8"
          ]
        },
        "outputId": "85960576-fa20-4e79-a546-cb2b9b0622fb"
      },
      "execution_count": 45,
      "outputs": [
        {
          "output_type": "display_data",
          "data": {
            "text/plain": [
              "  0%|          | 0/10 [00:00<?, ?it/s]"
            ],
            "application/vnd.jupyter.widget-view+json": {
              "version_major": 2,
              "version_minor": 0,
              "model_id": "ab2b56e8f1ce4f6799e311fb3a8363aa"
            }
          },
          "metadata": {}
        },
        {
          "output_type": "display_data",
          "data": {
            "text/plain": [
              "  0%|          | 0/3 [00:00<?, ?it/s]"
            ],
            "application/vnd.jupyter.widget-view+json": {
              "version_major": 2,
              "version_minor": 0,
              "model_id": "69412923dc0949b896c82ecad0e0307b"
            }
          },
          "metadata": {}
        },
        {
          "output_type": "stream",
          "name": "stdout",
          "text": [
            "model ağırlıklarını kaydettim.\n",
            "epoch : 1 train_loss : 5352.217260742187 valid_loss : 3236.7876790364585\n"
          ]
        },
        {
          "output_type": "display_data",
          "data": {
            "text/plain": [
              "  0%|          | 0/10 [00:00<?, ?it/s]"
            ],
            "application/vnd.jupyter.widget-view+json": {
              "version_major": 2,
              "version_minor": 0,
              "model_id": "5d296fc248a44260b228c64d52db63d0"
            }
          },
          "metadata": {}
        },
        {
          "output_type": "display_data",
          "data": {
            "text/plain": [
              "  0%|          | 0/3 [00:00<?, ?it/s]"
            ],
            "application/vnd.jupyter.widget-view+json": {
              "version_major": 2,
              "version_minor": 0,
              "model_id": "abb9a1bed98040e2a2e47b9fad574a48"
            }
          },
          "metadata": {}
        },
        {
          "output_type": "stream",
          "name": "stdout",
          "text": [
            "model ağırlıklarını kaydettim.\n",
            "epoch : 2 train_loss : 2082.3278686523436 valid_loss : 1068.424580891927\n"
          ]
        },
        {
          "output_type": "display_data",
          "data": {
            "text/plain": [
              "  0%|          | 0/10 [00:00<?, ?it/s]"
            ],
            "application/vnd.jupyter.widget-view+json": {
              "version_major": 2,
              "version_minor": 0,
              "model_id": "5e677c94afc14d6297536ac33aafc24d"
            }
          },
          "metadata": {}
        },
        {
          "output_type": "display_data",
          "data": {
            "text/plain": [
              "  0%|          | 0/3 [00:00<?, ?it/s]"
            ],
            "application/vnd.jupyter.widget-view+json": {
              "version_major": 2,
              "version_minor": 0,
              "model_id": "0b2e6e11770d4a56868741b54c261268"
            }
          },
          "metadata": {}
        },
        {
          "output_type": "stream",
          "name": "stdout",
          "text": [
            "model ağırlıklarını kaydettim.\n",
            "epoch : 3 train_loss : 1290.776513671875 valid_loss : 597.4876098632812\n"
          ]
        },
        {
          "output_type": "display_data",
          "data": {
            "text/plain": [
              "  0%|          | 0/10 [00:00<?, ?it/s]"
            ],
            "application/vnd.jupyter.widget-view+json": {
              "version_major": 2,
              "version_minor": 0,
              "model_id": "8081f05aa9354b7c9fd8d59e77e665d1"
            }
          },
          "metadata": {}
        },
        {
          "output_type": "display_data",
          "data": {
            "text/plain": [
              "  0%|          | 0/3 [00:00<?, ?it/s]"
            ],
            "application/vnd.jupyter.widget-view+json": {
              "version_major": 2,
              "version_minor": 0,
              "model_id": "99ac2f09487d4703892a81ccfcd550c6"
            }
          },
          "metadata": {}
        },
        {
          "output_type": "stream",
          "name": "stdout",
          "text": [
            "model ağırlıklarını kaydettim.\n",
            "epoch : 4 train_loss : 896.4006591796875 valid_loss : 172.84094746907553\n"
          ]
        }
      ]
    },
    {
      "cell_type": "markdown",
      "source": [
        "# Sonuç"
      ],
      "metadata": {
        "id": "NfB-cO_jOoG1"
      }
    },
    {
      "cell_type": "code",
      "source": [
        "import utils"
      ],
      "metadata": {
        "id": "EyNZhifNKGMQ"
      },
      "execution_count": 50,
      "outputs": []
    },
    {
      "cell_type": "code",
      "source": [
        "model.load_state_dict(torch.load('best_model.pt'))\n",
        "model.eval()\n",
        "with torch.no_grad():\n",
        "  image, gt_bbox = validset[2]\n",
        "  image = image.unsqueeze(0)\n",
        "  out_bbox = model(image)\n",
        "\n",
        "  utils.compare_plots(image, gt_bbox, out_bbox)"
      ],
      "metadata": {
        "id": "pBTq15Oz7oBq",
        "colab": {
          "base_uri": "https://localhost:8080/",
          "height": 286
        },
        "outputId": "0aaebb1a-19b0-4aa0-a9dd-034c3b7c7885"
      },
      "execution_count": 54,
      "outputs": [
        {
          "output_type": "stream",
          "name": "stderr",
          "text": [
            "WARNING:matplotlib.image:Clipping input data to the valid range for imshow with RGB data ([0..1] for floats or [0..255] for integers).\n"
          ]
        },
        {
          "output_type": "display_data",
          "data": {
            "text/plain": [
              "<Figure size 432x288 with 1 Axes>"
            ],
            "image/png": "[encoded data removed]"
          },
          "metadata": {
            "needs_background": "light"
          }
        }
      ]
    },
    {
      "cell_type": "code",
      "source": [],
      "metadata": {
        "id": "2R8rHHz03-Pa"
      },
      "execution_count": null,
      "outputs": []
    }
  ]
}